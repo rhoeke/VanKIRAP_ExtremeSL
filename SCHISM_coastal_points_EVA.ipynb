{
 "cells": [
  {
   "cell_type": "markdown",
   "id": "86e777e1-0b45-4c10-9e75-b7f463a91919",
   "metadata": {},
   "source": [
    "### Import Various Necessary Libraries Dask and Related Libraries"
   ]
  },
  {
   "cell_type": "code",
   "execution_count": 1,
   "id": "4e8e7cdd-4ecc-47a7-ad31-a4fa1859e11b",
   "metadata": {
    "tags": []
   },
   "outputs": [],
   "source": [
    "from dask_jobqueue import SLURMCluster\n",
    "from dask.distributed import Client\n",
    "import dask\n",
    "import os\n",
    "import sys\n",
    "import uuid"
   ]
  },
  {
   "cell_type": "markdown",
   "id": "b8068978-0dd7-4a6c-b1a2-13fa43b094d6",
   "metadata": {},
   "source": [
    "### Add proxy binaries to path"
   ]
  },
  {
   "cell_type": "code",
   "execution_count": 2,
   "id": "c4f28761-ab97-428b-bca8-6f5f6749e130",
   "metadata": {
    "tags": []
   },
   "outputs": [],
   "source": [
    "pwd = !echo ${PWD}"
   ]
  },
  {
   "cell_type": "markdown",
   "id": "b9891bb1-46f1-4e08-a9ef-4550088c2876",
   "metadata": {},
   "source": [
    "### Extend the local python paths with some network drives"
   ]
  },
  {
   "cell_type": "code",
   "execution_count": 3,
   "id": "88a2e0c1-86e0-4ba1-9022-66f3b357a471",
   "metadata": {
    "tags": []
   },
   "outputs": [
    {
     "data": {
      "text/plain": [
       "[None, None]"
      ]
     },
     "execution_count": 3,
     "metadata": {},
     "output_type": "execute_result"
    }
   ],
   "source": [
    "extension_python_paths = ['/datasets/work/oa-roamsurf/work/cmextremes_py/extraction/', os.environ[\"HOME\"] + '/lib/python3.8/site-packages']\n",
    "[sys.path.append(an_ext) for an_ext in extension_python_paths]"
   ]
  },
  {
   "cell_type": "markdown",
   "id": "ab8035df-8831-4ebd-8b42-abf034e5de67",
   "metadata": {},
   "source": [
    "### Specify a python exe used by SLURM to create the dask workers\n"
   ]
  },
  {
   "cell_type": "code",
   "execution_count": 4,
   "id": "aae98a5f-c49f-4862-9e8a-7a958c0d3c09",
   "metadata": {
    "tags": []
   },
   "outputs": [],
   "source": [
    "containered_python_exe = f\"srun --export=ALL -n $SLURM_NTASKS -c $SLURM_CPUS_PER_TASK   singularity run {os.environ['SINGULARITY_CONTAINER']} python\""
   ]
  },
  {
   "cell_type": "markdown",
   "id": "771822f8-67ed-43ce-9b65-7d9d3af0c51a",
   "metadata": {},
   "source": [
    "### If you run this cell after creating a cluster it will close that cluster "
   ]
  },
  {
   "cell_type": "code",
   "execution_count": 5,
   "id": "f3b93863-9c8a-460c-b772-754c44ed49c3",
   "metadata": {
    "tags": []
   },
   "outputs": [],
   "source": [
    "try:\n",
    "    cluster.close()\n",
    "except:\n",
    "    pass"
   ]
  },
  {
   "cell_type": "markdown",
   "id": "c9c17159-9b00-435a-ab3d-91a41338ba75",
   "metadata": {
    "tags": []
   },
   "source": [
    "### Create a cluster\n",
    "env_extra sets the worker specific environment parameters   \n",
    "\n",
    "PYTHONPATH is set to include the extension ptyhon paths and the SINGULARITY_BINDPATH bind paths of this jupyter environment for passing to the workers"
   ]
  },
  {
   "cell_type": "code",
   "execution_count": 6,
   "id": "d8c46ef9-24ee-4264-b23b-cdab1f787c64",
   "metadata": {
    "tags": []
   },
   "outputs": [],
   "source": [
    "job_suffix = os.environ['JOB_SUFFIX'] if 'JOB_SUFFIX' in os.environ.keys() else str(uuid.uuid4())[:8]"
   ]
  },
  {
   "cell_type": "markdown",
   "id": "c5c1eddc-c72b-4f39-87d8-8f06f2464c28",
   "metadata": {},
   "source": [
    "## List available project codes"
   ]
  },
  {
   "cell_type": "code",
   "execution_count": 7,
   "id": "fd28ddd5-d1b8-44bf-8e80-01b7e334acb5",
   "metadata": {
    "tags": []
   },
   "outputs": [
    {
     "name": "stdout",
     "output_type": "stream",
     "text": [
      "/bin/bash: line 1: get_project_codes: command not found\n"
     ]
    }
   ],
   "source": [
    "!get_project_codes"
   ]
  },
  {
   "cell_type": "code",
   "execution_count": 8,
   "id": "d82ef480-63eb-48a9-a8c4-303bffa6a5ce",
   "metadata": {
    "tags": []
   },
   "outputs": [],
   "source": [
    "# defined = 'NC_IN_GLOB' in os.environ.keys()\n",
    "# if not defined:\n",
    "#     print(\"WARNING, project code note defined defaulting\")\n",
    "#     project_code = 'OD-215204'\n",
    "# else:\n",
    "#     project_code = os.environ['NC_IN_GLOB']\n",
    "\n",
    "# OD-229130\t2023-12-31\tVan KIRAP 2.0: GCF Vanuatu Climate Information Services for Resilient Development\n",
    "project_code = 'OD-229130'"
   ]
  },
  {
   "cell_type": "code",
   "execution_count": 9,
   "id": "896d87b1-b54b-42de-8191-2f9f83accd95",
   "metadata": {
    "tags": []
   },
   "outputs": [],
   "source": [
    "job_extra = f'--account {project_code}'"
   ]
  },
  {
   "cell_type": "code",
   "execution_count": 10,
   "id": "7d04a9e9-0466-4f36-b923-6718fc24539c",
   "metadata": {
    "tags": []
   },
   "outputs": [],
   "source": [
    "process_number = 2"
   ]
  },
  {
   "cell_type": "code",
   "execution_count": 11,
   "id": "d829a0f7-da9e-41fc-8cc7-22e3e3ecee2b",
   "metadata": {
    "tags": []
   },
   "outputs": [
    {
     "name": "stderr",
     "output_type": "stream",
     "text": [
      "/srv/conda/envs/notebook/lib/python3.10/site-packages/dask_jobqueue/core.py:237: FutureWarning: extra has been renamed to worker_extra_args. You are still using it (even if only set to []; please also check config files). If you did not set worker_extra_args yet, extra will be respected for now, but it will be removed in a future release. If you already set worker_extra_args, extra is ignored and you can remove it.\n",
      "  warnings.warn(warn, FutureWarning)\n",
      "/srv/conda/envs/notebook/lib/python3.10/site-packages/dask_jobqueue/core.py:255: FutureWarning: job_extra has been renamed to job_extra_directives. You are still using it (even if only set to []; please also check config files). If you did not set job_extra_directives yet, job_extra will be respected for now, but it will be removed in a future release. If you already set job_extra_directives, job_extra is ignored and you can remove it.\n",
      "  warnings.warn(warn, FutureWarning)\n",
      "/srv/conda/envs/notebook/lib/python3.10/site-packages/dask_jobqueue/core.py:274: FutureWarning: env_extra has been renamed to job_script_prologue. You are still using it (even if only set to []; please also check config files). If you did not set job_script_prologue yet, env_extra will be respected for now, but it will be removed in a future release. If you already set job_script_prologue, env_extra is ignored and you can remove it.\n",
      "  warnings.warn(warn, FutureWarning)\n",
      "/srv/conda/envs/notebook/lib/python3.10/site-packages/distributed/node.py:182: UserWarning: Port 8787 is already in use.\n",
      "Perhaps you already have a cluster running?\n",
      "Hosting the HTTP server on port 39933 instead\n",
      "  warnings.warn(\n"
     ]
    }
   ],
   "source": [
    "cluster = SLURMCluster(\n",
    "    cores=4, memory=\"36G\", processes=process_number,\n",
    "    walltime=\"02:00:00\",\n",
    "    interface='ib0',\n",
    "    death_timeout=480,\n",
    "    job_name = f'dask-worker-{job_suffix}',\n",
    "    job_extra = [job_extra],\n",
    "    env_extra=[\n",
    "              'module load singularity', # ensure singularity is loaded\n",
    "              'export PYTHONPATH=' + ':'.join(extension_python_paths),\n",
    "              'export SINGULARITY_BINDPATH=' + os.environ['SINGULARITY_BIND'], \n",
    "              'export SINGULARITYENV_PREPEND_PATH='+ str(pwd[0]) +':' + str(pwd[0]) + ',/srv/conda/envs/notebook/bin:/srv/conda/condabin:/srv/conda/bin'],\n",
    "    # extra = [f'--local-directory={os.environ[\"SCRATCH2DIR\"]}'],\n",
    "    extra = [f'--local-directory={os.environ[\"SCRATCH3DIR\"]}'],\n",
    "    python=containered_python_exe,  # use pyhton in container\n",
    ")\n",
    "\n",
    "# Debug by running cluster.job_script()"
   ]
  },
  {
   "cell_type": "markdown",
   "id": "051b1edc-4c73-4b89-bc98-2dd5fd6f0dad",
   "metadata": {},
   "source": [
    "## if running a single process based cluster something like this might be needed\n",
    "```\n",
    "cluster = SLURMCluster(\n",
    "    cores=1, memory=\"24G\", processes=1,\n",
    "    walltime=\"01:59:00\",\n",
    "    interface='ib0',\n",
    "    death_timeout=480,\n",
    "    nanny=False,\n",
    "    job_name = f'dask-worker-{job_suffix}',\n",
    "    job_extra = [job_extra],\n",
    "    extra = [f' --local-directory={os.environ[\"SCRATCH2DIR\"]}'],\n",
    "    env_extra=[\n",
    "    'module load singularity', # ensure singularity is loaded\n",
    "    'export PYTHONPATH=' + ':'.join(extension_python_paths),\n",
    "    'export SINGULARITY_BINDPATH=' + os.environ['SINGULARITY_BIND'],\n",
    "    'export SINGULARITYENV_PREPEND_PATH='+ str(pwd[0]) +':' + str(pwd[0]) + ',/srv/conda/envs/notebook/bin:/srv/conda/condabin:/srv/conda/bin'],\n",
    "    python=containered_python_exe, # use pyhton in container    \n",
    ")\n",
    "```"
   ]
  },
  {
   "cell_type": "markdown",
   "id": "44ef67bb-300e-4262-bacf-e7189da7177c",
   "metadata": {},
   "source": [
    "### Create a client, this will inject dask into xarray and the distributed cluster into dask"
   ]
  },
  {
   "cell_type": "code",
   "execution_count": 12,
   "id": "e97f30a5-cc97-4123-82d8-180ce2ef4017",
   "metadata": {
    "tags": []
   },
   "outputs": [
    {
     "data": {
      "text/html": [
       "<div>\n",
       "    <div style=\"width: 24px; height: 24px; background-color: #e1e1e1; border: 3px solid #9D9D9D; border-radius: 5px; position: absolute;\"> </div>\n",
       "    <div style=\"margin-left: 48px;\">\n",
       "        <h3 style=\"margin-bottom: 0px;\">Client</h3>\n",
       "        <p style=\"color: #9D9D9D; margin-bottom: 0px;\">Client-2231a486-255e-11ee-84a9-70b5e8f0452c</p>\n",
       "        <table style=\"width: 100%; text-align: left;\">\n",
       "\n",
       "        <tr>\n",
       "        \n",
       "            <td style=\"text-align: left;\"><strong>Connection method:</strong> Cluster object</td>\n",
       "            <td style=\"text-align: left;\"><strong>Cluster type:</strong> dask_jobqueue.SLURMCluster</td>\n",
       "        \n",
       "        </tr>\n",
       "\n",
       "        \n",
       "            <tr>\n",
       "                <td style=\"text-align: left;\">\n",
       "                    <strong>Dashboard: </strong> <a href=\"http://10.150.202.157:39933/status\" target=\"_blank\">http://10.150.202.157:39933/status</a>\n",
       "                </td>\n",
       "                <td style=\"text-align: left;\"></td>\n",
       "            </tr>\n",
       "        \n",
       "\n",
       "        </table>\n",
       "\n",
       "        \n",
       "            <button style=\"margin-bottom: 12px;\" data-commandlinker-command=\"dask:populate-and-launch-layout\" data-commandlinker-args='{\"url\": \"http://10.150.202.157:39933/status\" }'>\n",
       "                Launch dashboard in JupyterLab\n",
       "            </button>\n",
       "        \n",
       "\n",
       "        \n",
       "            <details>\n",
       "            <summary style=\"margin-bottom: 20px;\"><h3 style=\"display: inline;\">Cluster Info</h3></summary>\n",
       "            <div class=\"jp-RenderedHTMLCommon jp-RenderedHTML jp-mod-trusted jp-OutputArea-output\">\n",
       "    <div style=\"width: 24px; height: 24px; background-color: #e1e1e1; border: 3px solid #9D9D9D; border-radius: 5px; position: absolute;\">\n",
       "    </div>\n",
       "    <div style=\"margin-left: 48px;\">\n",
       "        <h3 style=\"margin-bottom: 0px; margin-top: 0px;\">SLURMCluster</h3>\n",
       "        <p style=\"color: #9D9D9D; margin-bottom: 0px;\">602805d8</p>\n",
       "        <table style=\"width: 100%; text-align: left;\">\n",
       "            <tr>\n",
       "                <td style=\"text-align: left;\">\n",
       "                    <strong>Dashboard:</strong> <a href=\"http://10.150.202.157:39933/status\" target=\"_blank\">http://10.150.202.157:39933/status</a>\n",
       "                </td>\n",
       "                <td style=\"text-align: left;\">\n",
       "                    <strong>Workers:</strong> 0\n",
       "                </td>\n",
       "            </tr>\n",
       "            <tr>\n",
       "                <td style=\"text-align: left;\">\n",
       "                    <strong>Total threads:</strong> 0\n",
       "                </td>\n",
       "                <td style=\"text-align: left;\">\n",
       "                    <strong>Total memory:</strong> 0 B\n",
       "                </td>\n",
       "            </tr>\n",
       "            \n",
       "        </table>\n",
       "\n",
       "        <details>\n",
       "            <summary style=\"margin-bottom: 20px;\">\n",
       "                <h3 style=\"display: inline;\">Scheduler Info</h3>\n",
       "            </summary>\n",
       "\n",
       "            <div style=\"\">\n",
       "    <div>\n",
       "        <div style=\"width: 24px; height: 24px; background-color: #FFF7E5; border: 3px solid #FF6132; border-radius: 5px; position: absolute;\"> </div>\n",
       "        <div style=\"margin-left: 48px;\">\n",
       "            <h3 style=\"margin-bottom: 0px;\">Scheduler</h3>\n",
       "            <p style=\"color: #9D9D9D; margin-bottom: 0px;\">Scheduler-8d4c255d-d535-4b4d-b138-6bf1cb66fc19</p>\n",
       "            <table style=\"width: 100%; text-align: left;\">\n",
       "                <tr>\n",
       "                    <td style=\"text-align: left;\">\n",
       "                        <strong>Comm:</strong> tcp://10.150.202.157:41615\n",
       "                    </td>\n",
       "                    <td style=\"text-align: left;\">\n",
       "                        <strong>Workers:</strong> 0\n",
       "                    </td>\n",
       "                </tr>\n",
       "                <tr>\n",
       "                    <td style=\"text-align: left;\">\n",
       "                        <strong>Dashboard:</strong> <a href=\"http://10.150.202.157:39933/status\" target=\"_blank\">http://10.150.202.157:39933/status</a>\n",
       "                    </td>\n",
       "                    <td style=\"text-align: left;\">\n",
       "                        <strong>Total threads:</strong> 0\n",
       "                    </td>\n",
       "                </tr>\n",
       "                <tr>\n",
       "                    <td style=\"text-align: left;\">\n",
       "                        <strong>Started:</strong> Just now\n",
       "                    </td>\n",
       "                    <td style=\"text-align: left;\">\n",
       "                        <strong>Total memory:</strong> 0 B\n",
       "                    </td>\n",
       "                </tr>\n",
       "            </table>\n",
       "        </div>\n",
       "    </div>\n",
       "\n",
       "    <details style=\"margin-left: 48px;\">\n",
       "        <summary style=\"margin-bottom: 20px;\">\n",
       "            <h3 style=\"display: inline;\">Workers</h3>\n",
       "        </summary>\n",
       "\n",
       "        \n",
       "\n",
       "    </details>\n",
       "</div>\n",
       "\n",
       "        </details>\n",
       "    </div>\n",
       "</div>\n",
       "            </details>\n",
       "        \n",
       "\n",
       "    </div>\n",
       "</div>"
      ],
      "text/plain": [
       "<Client: 'tcp://10.150.202.157:41615' processes=0 threads=0, memory=0 B>"
      ]
     },
     "metadata": {},
     "output_type": "display_data"
    }
   ],
   "source": [
    "client = Client(cluster, timeout=240)\n",
    "display(client)"
   ]
  },
  {
   "cell_type": "code",
   "execution_count": 13,
   "id": "e3217f3e-8801-4ff7-a3d0-31e3939027f3",
   "metadata": {
    "tags": []
   },
   "outputs": [
    {
     "name": "stdout",
     "output_type": "stream",
     "text": [
      "Try http://localhost:8888/proxy/39933/status for the dask dashboard\n"
     ]
    }
   ],
   "source": [
    "port = client.dashboard_link.split('/')[-2].split(':')[-1]\n",
    "print(f\"Try http://localhost:8888/proxy/{port}/status for the dask dashboard\")"
   ]
  },
  {
   "cell_type": "markdown",
   "id": "9e204f80-b1a4-4929-a67e-fab2eb2d4d75",
   "metadata": {},
   "source": [
    "### Scale your workers\n",
    "\n",
    "With the default config in SLURMCluster above each job will get create 2 workers, one per process and each will have 30gb ram and 4 cores"
   ]
  },
  {
   "cell_type": "code",
   "execution_count": 14,
   "id": "f68da684-896f-4e62-923d-16de573be1cc",
   "metadata": {
    "tags": []
   },
   "outputs": [
    {
     "name": "stderr",
     "output_type": "stream",
     "text": [
      "/srv/conda/envs/notebook/lib/python3.10/site-packages/dask_jobqueue/core.py:237: FutureWarning: extra has been renamed to worker_extra_args. You are still using it (even if only set to []; please also check config files). If you did not set worker_extra_args yet, extra will be respected for now, but it will be removed in a future release. If you already set worker_extra_args, extra is ignored and you can remove it.\n",
      "  warnings.warn(warn, FutureWarning)\n",
      "/srv/conda/envs/notebook/lib/python3.10/site-packages/dask_jobqueue/core.py:255: FutureWarning: job_extra has been renamed to job_extra_directives. You are still using it (even if only set to []; please also check config files). If you did not set job_extra_directives yet, job_extra will be respected for now, but it will be removed in a future release. If you already set job_extra_directives, job_extra is ignored and you can remove it.\n",
      "  warnings.warn(warn, FutureWarning)\n",
      "/srv/conda/envs/notebook/lib/python3.10/site-packages/dask_jobqueue/core.py:274: FutureWarning: env_extra has been renamed to job_script_prologue. You are still using it (even if only set to []; please also check config files). If you did not set job_script_prologue yet, env_extra will be respected for now, but it will be removed in a future release. If you already set job_script_prologue, env_extra is ignored and you can remove it.\n",
      "  warnings.warn(warn, FutureWarning)\n",
      "/srv/conda/envs/notebook/lib/python3.10/site-packages/dask_jobqueue/core.py:237: FutureWarning: extra has been renamed to worker_extra_args. You are still using it (even if only set to []; please also check config files). If you did not set worker_extra_args yet, extra will be respected for now, but it will be removed in a future release. If you already set worker_extra_args, extra is ignored and you can remove it.\n",
      "  warnings.warn(warn, FutureWarning)\n",
      "/srv/conda/envs/notebook/lib/python3.10/site-packages/dask_jobqueue/core.py:255: FutureWarning: job_extra has been renamed to job_extra_directives. You are still using it (even if only set to []; please also check config files). If you did not set job_extra_directives yet, job_extra will be respected for now, but it will be removed in a future release. If you already set job_extra_directives, job_extra is ignored and you can remove it.\n",
      "  warnings.warn(warn, FutureWarning)\n",
      "/srv/conda/envs/notebook/lib/python3.10/site-packages/dask_jobqueue/core.py:274: FutureWarning: env_extra has been renamed to job_script_prologue. You are still using it (even if only set to []; please also check config files). If you did not set job_script_prologue yet, env_extra will be respected for now, but it will be removed in a future release. If you already set job_script_prologue, env_extra is ignored and you can remove it.\n",
      "  warnings.warn(warn, FutureWarning)\n",
      "/srv/conda/envs/notebook/lib/python3.10/site-packages/dask_jobqueue/core.py:237: FutureWarning: extra has been renamed to worker_extra_args. You are still using it (even if only set to []; please also check config files). If you did not set worker_extra_args yet, extra will be respected for now, but it will be removed in a future release. If you already set worker_extra_args, extra is ignored and you can remove it.\n",
      "  warnings.warn(warn, FutureWarning)\n",
      "/srv/conda/envs/notebook/lib/python3.10/site-packages/dask_jobqueue/core.py:255: FutureWarning: job_extra has been renamed to job_extra_directives. You are still using it (even if only set to []; please also check config files). If you did not set job_extra_directives yet, job_extra will be respected for now, but it will be removed in a future release. If you already set job_extra_directives, job_extra is ignored and you can remove it.\n",
      "  warnings.warn(warn, FutureWarning)\n",
      "/srv/conda/envs/notebook/lib/python3.10/site-packages/dask_jobqueue/core.py:274: FutureWarning: env_extra has been renamed to job_script_prologue. You are still using it (even if only set to []; please also check config files). If you did not set job_script_prologue yet, env_extra will be respected for now, but it will be removed in a future release. If you already set job_script_prologue, env_extra is ignored and you can remove it.\n",
      "  warnings.warn(warn, FutureWarning)\n",
      "/srv/conda/envs/notebook/lib/python3.10/site-packages/dask_jobqueue/core.py:237: FutureWarning: extra has been renamed to worker_extra_args. You are still using it (even if only set to []; please also check config files). If you did not set worker_extra_args yet, extra will be respected for now, but it will be removed in a future release. If you already set worker_extra_args, extra is ignored and you can remove it.\n",
      "  warnings.warn(warn, FutureWarning)\n",
      "/srv/conda/envs/notebook/lib/python3.10/site-packages/dask_jobqueue/core.py:255: FutureWarning: job_extra has been renamed to job_extra_directives. You are still using it (even if only set to []; please also check config files). If you did not set job_extra_directives yet, job_extra will be respected for now, but it will be removed in a future release. If you already set job_extra_directives, job_extra is ignored and you can remove it.\n",
      "  warnings.warn(warn, FutureWarning)\n",
      "/srv/conda/envs/notebook/lib/python3.10/site-packages/dask_jobqueue/core.py:274: FutureWarning: env_extra has been renamed to job_script_prologue. You are still using it (even if only set to []; please also check config files). If you did not set job_script_prologue yet, env_extra will be respected for now, but it will be removed in a future release. If you already set job_script_prologue, env_extra is ignored and you can remove it.\n",
      "  warnings.warn(warn, FutureWarning)\n",
      "/srv/conda/envs/notebook/lib/python3.10/site-packages/dask_jobqueue/core.py:237: FutureWarning: extra has been renamed to worker_extra_args. You are still using it (even if only set to []; please also check config files). If you did not set worker_extra_args yet, extra will be respected for now, but it will be removed in a future release. If you already set worker_extra_args, extra is ignored and you can remove it.\n",
      "  warnings.warn(warn, FutureWarning)\n",
      "/srv/conda/envs/notebook/lib/python3.10/site-packages/dask_jobqueue/core.py:255: FutureWarning: job_extra has been renamed to job_extra_directives. You are still using it (even if only set to []; please also check config files). If you did not set job_extra_directives yet, job_extra will be respected for now, but it will be removed in a future release. If you already set job_extra_directives, job_extra is ignored and you can remove it.\n",
      "  warnings.warn(warn, FutureWarning)\n",
      "/srv/conda/envs/notebook/lib/python3.10/site-packages/dask_jobqueue/core.py:274: FutureWarning: env_extra has been renamed to job_script_prologue. You are still using it (even if only set to []; please also check config files). If you did not set job_script_prologue yet, env_extra will be respected for now, but it will be removed in a future release. If you already set job_script_prologue, env_extra is ignored and you can remove it.\n",
      "  warnings.warn(warn, FutureWarning)\n",
      "/srv/conda/envs/notebook/lib/python3.10/site-packages/dask_jobqueue/core.py:237: FutureWarning: extra has been renamed to worker_extra_args. You are still using it (even if only set to []; please also check config files). If you did not set worker_extra_args yet, extra will be respected for now, but it will be removed in a future release. If you already set worker_extra_args, extra is ignored and you can remove it.\n",
      "  warnings.warn(warn, FutureWarning)\n",
      "/srv/conda/envs/notebook/lib/python3.10/site-packages/dask_jobqueue/core.py:255: FutureWarning: job_extra has been renamed to job_extra_directives. You are still using it (even if only set to []; please also check config files). If you did not set job_extra_directives yet, job_extra will be respected for now, but it will be removed in a future release. If you already set job_extra_directives, job_extra is ignored and you can remove it.\n",
      "  warnings.warn(warn, FutureWarning)\n",
      "/srv/conda/envs/notebook/lib/python3.10/site-packages/dask_jobqueue/core.py:274: FutureWarning: env_extra has been renamed to job_script_prologue. You are still using it (even if only set to []; please also check config files). If you did not set job_script_prologue yet, env_extra will be respected for now, but it will be removed in a future release. If you already set job_script_prologue, env_extra is ignored and you can remove it.\n",
      "  warnings.warn(warn, FutureWarning)\n",
      "/srv/conda/envs/notebook/lib/python3.10/site-packages/dask_jobqueue/core.py:237: FutureWarning: extra has been renamed to worker_extra_args. You are still using it (even if only set to []; please also check config files). If you did not set worker_extra_args yet, extra will be respected for now, but it will be removed in a future release. If you already set worker_extra_args, extra is ignored and you can remove it.\n",
      "  warnings.warn(warn, FutureWarning)\n",
      "/srv/conda/envs/notebook/lib/python3.10/site-packages/dask_jobqueue/core.py:255: FutureWarning: job_extra has been renamed to job_extra_directives. You are still using it (even if only set to []; please also check config files). If you did not set job_extra_directives yet, job_extra will be respected for now, but it will be removed in a future release. If you already set job_extra_directives, job_extra is ignored and you can remove it.\n",
      "  warnings.warn(warn, FutureWarning)\n",
      "/srv/conda/envs/notebook/lib/python3.10/site-packages/dask_jobqueue/core.py:274: FutureWarning: env_extra has been renamed to job_script_prologue. You are still using it (even if only set to []; please also check config files). If you did not set job_script_prologue yet, env_extra will be respected for now, but it will be removed in a future release. If you already set job_script_prologue, env_extra is ignored and you can remove it.\n",
      "  warnings.warn(warn, FutureWarning)\n",
      "/srv/conda/envs/notebook/lib/python3.10/site-packages/dask_jobqueue/core.py:237: FutureWarning: extra has been renamed to worker_extra_args. You are still using it (even if only set to []; please also check config files). If you did not set worker_extra_args yet, extra will be respected for now, but it will be removed in a future release. If you already set worker_extra_args, extra is ignored and you can remove it.\n",
      "  warnings.warn(warn, FutureWarning)\n",
      "/srv/conda/envs/notebook/lib/python3.10/site-packages/dask_jobqueue/core.py:255: FutureWarning: job_extra has been renamed to job_extra_directives. You are still using it (even if only set to []; please also check config files). If you did not set job_extra_directives yet, job_extra will be respected for now, but it will be removed in a future release. If you already set job_extra_directives, job_extra is ignored and you can remove it.\n",
      "  warnings.warn(warn, FutureWarning)\n",
      "/srv/conda/envs/notebook/lib/python3.10/site-packages/dask_jobqueue/core.py:274: FutureWarning: env_extra has been renamed to job_script_prologue. You are still using it (even if only set to []; please also check config files). If you did not set job_script_prologue yet, env_extra will be respected for now, but it will be removed in a future release. If you already set job_script_prologue, env_extra is ignored and you can remove it.\n",
      "  warnings.warn(warn, FutureWarning)\n",
      "/srv/conda/envs/notebook/lib/python3.10/site-packages/dask_jobqueue/core.py:237: FutureWarning: extra has been renamed to worker_extra_args. You are still using it (even if only set to []; please also check config files). If you did not set worker_extra_args yet, extra will be respected for now, but it will be removed in a future release. If you already set worker_extra_args, extra is ignored and you can remove it.\n",
      "  warnings.warn(warn, FutureWarning)\n",
      "/srv/conda/envs/notebook/lib/python3.10/site-packages/dask_jobqueue/core.py:255: FutureWarning: job_extra has been renamed to job_extra_directives. You are still using it (even if only set to []; please also check config files). If you did not set job_extra_directives yet, job_extra will be respected for now, but it will be removed in a future release. If you already set job_extra_directives, job_extra is ignored and you can remove it.\n",
      "  warnings.warn(warn, FutureWarning)\n",
      "/srv/conda/envs/notebook/lib/python3.10/site-packages/dask_jobqueue/core.py:274: FutureWarning: env_extra has been renamed to job_script_prologue. You are still using it (even if only set to []; please also check config files). If you did not set job_script_prologue yet, env_extra will be respected for now, but it will be removed in a future release. If you already set job_script_prologue, env_extra is ignored and you can remove it.\n",
      "  warnings.warn(warn, FutureWarning)\n"
     ]
    }
   ],
   "source": [
    "max_workers = 10\n",
    "\n",
    "import time\n",
    "for i in range(0, max_workers): \n",
    "    cluster.scale(jobs=i) #yes this looks weird requesting n+1 workers everytime but really it only requests 1 new worker each time\n",
    "    time.sleep(5)\n",
    "\n",
    "timeout = 600   # seconds till timeout, timeout if cluster not up in 10 minutes\n",
    "timeout_start = time.time()\n",
    "while len(client.ncores().keys())*process_number < max_workers -1:\n",
    "    if (time.time() > timeout_start+timeout):\n",
    "        raise Exception(f\"Failed to start enough workers in {timeout} seconds, {len(cluster.workers)} started\")\n",
    "    time.sleep(1)"
   ]
  },
  {
   "cell_type": "code",
   "execution_count": 15,
   "id": "379ee05c-3a82-4aa9-836d-32de06b8650b",
   "metadata": {
    "tags": []
   },
   "outputs": [
    {
     "data": {
      "text/plain": [
       "8"
      ]
     },
     "execution_count": 15,
     "metadata": {},
     "output_type": "execute_result"
    }
   ],
   "source": [
    "len(client.ncores())"
   ]
  },
  {
   "cell_type": "markdown",
   "id": "364d6f11-aea1-4888-98a7-927a1bad68b9",
   "metadata": {},
   "source": [
    "## Actual original notebook cells to do the work ..."
   ]
  },
  {
   "cell_type": "code",
   "execution_count": 16,
   "id": "892168b3-326c-4ffe-9bd7-752b52b60f15",
   "metadata": {},
   "outputs": [
    {
     "name": "stderr",
     "output_type": "stream",
     "text": [
      "/tmp/hoe01e.64743/ipykernel_33961/3451227770.py:5: DeprecationWarning: Shapely 2.0 is installed, but because PyGEOS is also installed, GeoPandas still uses PyGEOS by default. However, starting with version 0.14, the default will switch to Shapely. To force to use Shapely 2.0 now, you can either uninstall PyGEOS or set the environment variable USE_PYGEOS=0. You can do this before starting the Python process, or in your code before importing geopandas:\n",
      "\n",
      "import os\n",
      "os.environ['USE_PYGEOS'] = '0'\n",
      "import geopandas\n",
      "\n",
      "In the next release, GeoPandas will switch to using Shapely by default, even if PyGEOS is installed. If you only have PyGEOS installed to get speed-ups, this switch should be smooth. However, if you are using PyGEOS directly (calling PyGEOS functions on geometries from GeoPandas), this will then stop working and you are encouraged to migrate from PyGEOS to Shapely 2.0 (https://shapely.readthedocs.io/en/latest/migration_pygeos.html).\n",
      "  import geopandas as gpd\n"
     ]
    }
   ],
   "source": [
    "import sys\n",
    "from datetime import datetime\n",
    "import numpy as np\n",
    "import pandas as pd\n",
    "import geopandas as gpd\n",
    "import xarray as xr\n",
    "import re\n",
    "import glob\n",
    "\n",
    "import scipy.stats as stats\n",
    "import matplotlib.pyplot as plt"
   ]
  },
  {
   "cell_type": "code",
   "execution_count": 17,
   "id": "7ca36508-f4a6-4fcd-a921-6a8f139360a8",
   "metadata": {},
   "outputs": [],
   "source": [
    "# only run this if above dask cluster cells are notrun\n",
    "# comment out otherwise\n",
    "# from dask.distributed import Client, LocalCluster \n",
    "# cluster = LocalCluster() # Launches a scheduler and workers locally \n",
    "# client = Client(cluster)"
   ]
  },
  {
   "cell_type": "code",
   "execution_count": 18,
   "id": "512d8a17-2a30-4edf-99cd-d9ba387dfda6",
   "metadata": {},
   "outputs": [],
   "source": [
    "# get some pre-defined functions\n",
    "# probably want to move them somewhere better more accessible\n",
    "base_path = '/datasets/work/oa-vankirap/work/'\n",
    "sys.path.append(f'{base_path}/schism/bin')\n",
    "from SCHISM_load_plot_defs import schism_load, find_nearest_wet_point, schism_plot"
   ]
  },
  {
   "cell_type": "markdown",
   "id": "29291bee-7730-42c9-8a21-8c7f9a05d71d",
   "metadata": {},
   "source": [
    "### I've been using this package for EVA \n",
    "#### https://github.com/georgebv/pyextremes\n",
    "See https://bitbucket.csiro.au/projects/CMEXTREMES/repos/cmextremes_py/browse/plotting/ww3_test_plot_ts_stats.ipynb\n",
    "for example usage"
   ]
  },
  {
   "cell_type": "code",
   "execution_count": 19,
   "id": "2163dc0a-169b-4547-b49c-0247480e4581",
   "metadata": {},
   "outputs": [],
   "source": [
    "from pyextremes import EVA"
   ]
  },
  {
   "cell_type": "markdown",
   "id": "c2ca7d69-61b9-4e82-8166-e80ae2b54f93",
   "metadata": {},
   "source": [
    "### This is the hourly 'elev' variable at selected coastal points, concatenated for the entire VanKIRAP Hindcast_v2\n",
    "i.e.:\n",
    "    /datasets/work/oa-vankirap/work/schism/Hindcast_v2\n",
    "\n",
    "data created using:\n",
    "    ClusterScale_VanKIRAP_SCHISM_extract.ipynb"
   ]
  },
  {
   "cell_type": "code",
   "execution_count": 20,
   "id": "fa44d98f-2051-4f21-81d5-1d1653fcecba",
   "metadata": {},
   "outputs": [],
   "source": [
    "# coastpoints_ds=xr.open_dataset(f'{base_path}/TWL_calc/coastal_points_schism_elev.nc', chunks='auto')\n",
    "# coastpoints_ds=xr.load_dataset(f'{base_path}/schism/EVA/coastal_points_schism_elev.nc')\n",
    "coastpoints_ds=xr.load_dataset(f'{base_path}/schism/EVA/Hindcast_v3_coastal_points_schism_elev.nc', chunks='auto')"
   ]
  },
  {
   "cell_type": "code",
   "execution_count": 21,
   "id": "63e46f60-b37f-4ce9-bc44-33266d172453",
   "metadata": {},
   "outputs": [
    {
     "data": {
      "text/html": [
       "<div><svg style=\"position: absolute; width: 0; height: 0; overflow: hidden\">\n",
       "<defs>\n",
       "<symbol id=\"icon-database\" viewBox=\"0 0 32 32\">\n",
       "<path d=\"M16 0c-8.837 0-16 2.239-16 5v4c0 2.761 7.163 5 16 5s16-2.239 16-5v-4c0-2.761-7.163-5-16-5z\"></path>\n",
       "<path d=\"M16 17c-8.837 0-16-2.239-16-5v6c0 2.761 7.163 5 16 5s16-2.239 16-5v-6c0 2.761-7.163 5-16 5z\"></path>\n",
       "<path d=\"M16 26c-8.837 0-16-2.239-16-5v6c0 2.761 7.163 5 16 5s16-2.239 16-5v-6c0 2.761-7.163 5-16 5z\"></path>\n",
       "</symbol>\n",
       "<symbol id=\"icon-file-text2\" viewBox=\"0 0 32 32\">\n",
       "<path d=\"M28.681 7.159c-0.694-0.947-1.662-2.053-2.724-3.116s-2.169-2.030-3.116-2.724c-1.612-1.182-2.393-1.319-2.841-1.319h-15.5c-1.378 0-2.5 1.121-2.5 2.5v27c0 1.378 1.122 2.5 2.5 2.5h23c1.378 0 2.5-1.122 2.5-2.5v-19.5c0-0.448-0.137-1.23-1.319-2.841zM24.543 5.457c0.959 0.959 1.712 1.825 2.268 2.543h-4.811v-4.811c0.718 0.556 1.584 1.309 2.543 2.268zM28 29.5c0 0.271-0.229 0.5-0.5 0.5h-23c-0.271 0-0.5-0.229-0.5-0.5v-27c0-0.271 0.229-0.5 0.5-0.5 0 0 15.499-0 15.5 0v7c0 0.552 0.448 1 1 1h7v19.5z\"></path>\n",
       "<path d=\"M23 26h-14c-0.552 0-1-0.448-1-1s0.448-1 1-1h14c0.552 0 1 0.448 1 1s-0.448 1-1 1z\"></path>\n",
       "<path d=\"M23 22h-14c-0.552 0-1-0.448-1-1s0.448-1 1-1h14c0.552 0 1 0.448 1 1s-0.448 1-1 1z\"></path>\n",
       "<path d=\"M23 18h-14c-0.552 0-1-0.448-1-1s0.448-1 1-1h14c0.552 0 1 0.448 1 1s-0.448 1-1 1z\"></path>\n",
       "</symbol>\n",
       "</defs>\n",
       "</svg>\n",
       "<style>/* CSS stylesheet for displaying xarray objects in jupyterlab.\n",
       " *\n",
       " */\n",
       "\n",
       ":root {\n",
       "  --xr-font-color0: var(--jp-content-font-color0, rgba(0, 0, 0, 1));\n",
       "  --xr-font-color2: var(--jp-content-font-color2, rgba(0, 0, 0, 0.54));\n",
       "  --xr-font-color3: var(--jp-content-font-color3, rgba(0, 0, 0, 0.38));\n",
       "  --xr-border-color: var(--jp-border-color2, #e0e0e0);\n",
       "  --xr-disabled-color: var(--jp-layout-color3, #bdbdbd);\n",
       "  --xr-background-color: var(--jp-layout-color0, white);\n",
       "  --xr-background-color-row-even: var(--jp-layout-color1, white);\n",
       "  --xr-background-color-row-odd: var(--jp-layout-color2, #eeeeee);\n",
       "}\n",
       "\n",
       "html[theme=dark],\n",
       "body[data-theme=dark],\n",
       "body.vscode-dark {\n",
       "  --xr-font-color0: rgba(255, 255, 255, 1);\n",
       "  --xr-font-color2: rgba(255, 255, 255, 0.54);\n",
       "  --xr-font-color3: rgba(255, 255, 255, 0.38);\n",
       "  --xr-border-color: #1F1F1F;\n",
       "  --xr-disabled-color: #515151;\n",
       "  --xr-background-color: #111111;\n",
       "  --xr-background-color-row-even: #111111;\n",
       "  --xr-background-color-row-odd: #313131;\n",
       "}\n",
       "\n",
       ".xr-wrap {\n",
       "  display: block !important;\n",
       "  min-width: 300px;\n",
       "  max-width: 700px;\n",
       "}\n",
       "\n",
       ".xr-text-repr-fallback {\n",
       "  /* fallback to plain text repr when CSS is not injected (untrusted notebook) */\n",
       "  display: none;\n",
       "}\n",
       "\n",
       ".xr-header {\n",
       "  padding-top: 6px;\n",
       "  padding-bottom: 6px;\n",
       "  margin-bottom: 4px;\n",
       "  border-bottom: solid 1px var(--xr-border-color);\n",
       "}\n",
       "\n",
       ".xr-header > div,\n",
       ".xr-header > ul {\n",
       "  display: inline;\n",
       "  margin-top: 0;\n",
       "  margin-bottom: 0;\n",
       "}\n",
       "\n",
       ".xr-obj-type,\n",
       ".xr-array-name {\n",
       "  margin-left: 2px;\n",
       "  margin-right: 10px;\n",
       "}\n",
       "\n",
       ".xr-obj-type {\n",
       "  color: var(--xr-font-color2);\n",
       "}\n",
       "\n",
       ".xr-sections {\n",
       "  padding-left: 0 !important;\n",
       "  display: grid;\n",
       "  grid-template-columns: 150px auto auto 1fr 20px 20px;\n",
       "}\n",
       "\n",
       ".xr-section-item {\n",
       "  display: contents;\n",
       "}\n",
       "\n",
       ".xr-section-item input {\n",
       "  display: none;\n",
       "}\n",
       "\n",
       ".xr-section-item input + label {\n",
       "  color: var(--xr-disabled-color);\n",
       "}\n",
       "\n",
       ".xr-section-item input:enabled + label {\n",
       "  cursor: pointer;\n",
       "  color: var(--xr-font-color2);\n",
       "}\n",
       "\n",
       ".xr-section-item input:enabled + label:hover {\n",
       "  color: var(--xr-font-color0);\n",
       "}\n",
       "\n",
       ".xr-section-summary {\n",
       "  grid-column: 1;\n",
       "  color: var(--xr-font-color2);\n",
       "  font-weight: 500;\n",
       "}\n",
       "\n",
       ".xr-section-summary > span {\n",
       "  display: inline-block;\n",
       "  padding-left: 0.5em;\n",
       "}\n",
       "\n",
       ".xr-section-summary-in:disabled + label {\n",
       "  color: var(--xr-font-color2);\n",
       "}\n",
       "\n",
       ".xr-section-summary-in + label:before {\n",
       "  display: inline-block;\n",
       "  content: '►';\n",
       "  font-size: 11px;\n",
       "  width: 15px;\n",
       "  text-align: center;\n",
       "}\n",
       "\n",
       ".xr-section-summary-in:disabled + label:before {\n",
       "  color: var(--xr-disabled-color);\n",
       "}\n",
       "\n",
       ".xr-section-summary-in:checked + label:before {\n",
       "  content: '▼';\n",
       "}\n",
       "\n",
       ".xr-section-summary-in:checked + label > span {\n",
       "  display: none;\n",
       "}\n",
       "\n",
       ".xr-section-summary,\n",
       ".xr-section-inline-details {\n",
       "  padding-top: 4px;\n",
       "  padding-bottom: 4px;\n",
       "}\n",
       "\n",
       ".xr-section-inline-details {\n",
       "  grid-column: 2 / -1;\n",
       "}\n",
       "\n",
       ".xr-section-details {\n",
       "  display: none;\n",
       "  grid-column: 1 / -1;\n",
       "  margin-bottom: 5px;\n",
       "}\n",
       "\n",
       ".xr-section-summary-in:checked ~ .xr-section-details {\n",
       "  display: contents;\n",
       "}\n",
       "\n",
       ".xr-array-wrap {\n",
       "  grid-column: 1 / -1;\n",
       "  display: grid;\n",
       "  grid-template-columns: 20px auto;\n",
       "}\n",
       "\n",
       ".xr-array-wrap > label {\n",
       "  grid-column: 1;\n",
       "  vertical-align: top;\n",
       "}\n",
       "\n",
       ".xr-preview {\n",
       "  color: var(--xr-font-color3);\n",
       "}\n",
       "\n",
       ".xr-array-preview,\n",
       ".xr-array-data {\n",
       "  padding: 0 5px !important;\n",
       "  grid-column: 2;\n",
       "}\n",
       "\n",
       ".xr-array-data,\n",
       ".xr-array-in:checked ~ .xr-array-preview {\n",
       "  display: none;\n",
       "}\n",
       "\n",
       ".xr-array-in:checked ~ .xr-array-data,\n",
       ".xr-array-preview {\n",
       "  display: inline-block;\n",
       "}\n",
       "\n",
       ".xr-dim-list {\n",
       "  display: inline-block !important;\n",
       "  list-style: none;\n",
       "  padding: 0 !important;\n",
       "  margin: 0;\n",
       "}\n",
       "\n",
       ".xr-dim-list li {\n",
       "  display: inline-block;\n",
       "  padding: 0;\n",
       "  margin: 0;\n",
       "}\n",
       "\n",
       ".xr-dim-list:before {\n",
       "  content: '(';\n",
       "}\n",
       "\n",
       ".xr-dim-list:after {\n",
       "  content: ')';\n",
       "}\n",
       "\n",
       ".xr-dim-list li:not(:last-child):after {\n",
       "  content: ',';\n",
       "  padding-right: 5px;\n",
       "}\n",
       "\n",
       ".xr-has-index {\n",
       "  font-weight: bold;\n",
       "}\n",
       "\n",
       ".xr-var-list,\n",
       ".xr-var-item {\n",
       "  display: contents;\n",
       "}\n",
       "\n",
       ".xr-var-item > div,\n",
       ".xr-var-item label,\n",
       ".xr-var-item > .xr-var-name span {\n",
       "  background-color: var(--xr-background-color-row-even);\n",
       "  margin-bottom: 0;\n",
       "}\n",
       "\n",
       ".xr-var-item > .xr-var-name:hover span {\n",
       "  padding-right: 5px;\n",
       "}\n",
       "\n",
       ".xr-var-list > li:nth-child(odd) > div,\n",
       ".xr-var-list > li:nth-child(odd) > label,\n",
       ".xr-var-list > li:nth-child(odd) > .xr-var-name span {\n",
       "  background-color: var(--xr-background-color-row-odd);\n",
       "}\n",
       "\n",
       ".xr-var-name {\n",
       "  grid-column: 1;\n",
       "}\n",
       "\n",
       ".xr-var-dims {\n",
       "  grid-column: 2;\n",
       "}\n",
       "\n",
       ".xr-var-dtype {\n",
       "  grid-column: 3;\n",
       "  text-align: right;\n",
       "  color: var(--xr-font-color2);\n",
       "}\n",
       "\n",
       ".xr-var-preview {\n",
       "  grid-column: 4;\n",
       "}\n",
       "\n",
       ".xr-index-preview {\n",
       "  grid-column: 2 / 5;\n",
       "  color: var(--xr-font-color2);\n",
       "}\n",
       "\n",
       ".xr-var-name,\n",
       ".xr-var-dims,\n",
       ".xr-var-dtype,\n",
       ".xr-preview,\n",
       ".xr-attrs dt {\n",
       "  white-space: nowrap;\n",
       "  overflow: hidden;\n",
       "  text-overflow: ellipsis;\n",
       "  padding-right: 10px;\n",
       "}\n",
       "\n",
       ".xr-var-name:hover,\n",
       ".xr-var-dims:hover,\n",
       ".xr-var-dtype:hover,\n",
       ".xr-attrs dt:hover {\n",
       "  overflow: visible;\n",
       "  width: auto;\n",
       "  z-index: 1;\n",
       "}\n",
       "\n",
       ".xr-var-attrs,\n",
       ".xr-var-data,\n",
       ".xr-index-data {\n",
       "  display: none;\n",
       "  background-color: var(--xr-background-color) !important;\n",
       "  padding-bottom: 5px !important;\n",
       "}\n",
       "\n",
       ".xr-var-attrs-in:checked ~ .xr-var-attrs,\n",
       ".xr-var-data-in:checked ~ .xr-var-data,\n",
       ".xr-index-data-in:checked ~ .xr-index-data {\n",
       "  display: block;\n",
       "}\n",
       "\n",
       ".xr-var-data > table {\n",
       "  float: right;\n",
       "}\n",
       "\n",
       ".xr-var-name span,\n",
       ".xr-var-data,\n",
       ".xr-index-name div,\n",
       ".xr-index-data,\n",
       ".xr-attrs {\n",
       "  padding-left: 25px !important;\n",
       "}\n",
       "\n",
       ".xr-attrs,\n",
       ".xr-var-attrs,\n",
       ".xr-var-data,\n",
       ".xr-index-data {\n",
       "  grid-column: 1 / -1;\n",
       "}\n",
       "\n",
       "dl.xr-attrs {\n",
       "  padding: 0;\n",
       "  margin: 0;\n",
       "  display: grid;\n",
       "  grid-template-columns: 125px auto;\n",
       "}\n",
       "\n",
       ".xr-attrs dt,\n",
       ".xr-attrs dd {\n",
       "  padding: 0;\n",
       "  margin: 0;\n",
       "  float: left;\n",
       "  padding-right: 10px;\n",
       "  width: auto;\n",
       "}\n",
       "\n",
       ".xr-attrs dt {\n",
       "  font-weight: normal;\n",
       "  grid-column: 1;\n",
       "}\n",
       "\n",
       ".xr-attrs dt:hover span {\n",
       "  display: inline-block;\n",
       "  background: var(--xr-background-color);\n",
       "  padding-right: 10px;\n",
       "}\n",
       "\n",
       ".xr-attrs dd {\n",
       "  grid-column: 2;\n",
       "  white-space: pre-wrap;\n",
       "  word-break: break-all;\n",
       "}\n",
       "\n",
       ".xr-icon-database,\n",
       ".xr-icon-file-text2,\n",
       ".xr-no-icon {\n",
       "  display: inline-block;\n",
       "  vertical-align: middle;\n",
       "  width: 1em;\n",
       "  height: 1.5em !important;\n",
       "  stroke-width: 0;\n",
       "  stroke: currentColor;\n",
       "  fill: currentColor;\n",
       "}\n",
       "</style><pre class='xr-text-repr-fallback'>&lt;xarray.Dataset&gt;\n",
       "Dimensions:    (index: 2377, time: 359424)\n",
       "Coordinates:\n",
       "  * index      (index) int64 0 1 2 3 4 5 6 ... 2371 2372 2373 2374 2375 2376\n",
       "  * time       (time) datetime64[ns] 1980-01-01T01:00:00 ... 2021-01-01\n",
       "Data variables:\n",
       "    longitude  (index) float64 169.8 169.8 169.8 169.8 ... 166.5 166.5 166.5\n",
       "    latitude   (index) float64 -20.25 -20.25 -20.25 ... -13.09 -13.08 -13.07\n",
       "    node_idx   (index) int64 97728 97735 97728 97922 ... 3238 3210 3141 3164\n",
       "    kns        (index) int64 5 10 5 10 10 10 10 5 5 ... 10 10 10 5 10 10 10 10 5\n",
       "    node_lons  (index) float64 169.8 169.8 169.8 169.8 ... 166.5 166.5 166.5\n",
       "    node_lats  (index) float64 -20.25 -20.25 -20.25 ... -13.09 -13.09 -13.07\n",
       "    depth      (index) float32 1.11 0.37 1.11 0.0 0.0 ... 24.12 7.08 19.89 2.71\n",
       "    elev       (time, index) float32 -0.2643 -0.248 ... -0.04502 -0.04967</pre><div class='xr-wrap' style='display:none'><div class='xr-header'><div class='xr-obj-type'>xarray.Dataset</div></div><ul class='xr-sections'><li class='xr-section-item'><input id='section-c79cc23e-2cd7-457a-a587-734243b4ee8b' class='xr-section-summary-in' type='checkbox' disabled ><label for='section-c79cc23e-2cd7-457a-a587-734243b4ee8b' class='xr-section-summary'  title='Expand/collapse section'>Dimensions:</label><div class='xr-section-inline-details'><ul class='xr-dim-list'><li><span class='xr-has-index'>index</span>: 2377</li><li><span class='xr-has-index'>time</span>: 359424</li></ul></div><div class='xr-section-details'></div></li><li class='xr-section-item'><input id='section-fdded293-f466-4d5b-ab08-d1ccedd81a14' class='xr-section-summary-in' type='checkbox'  checked><label for='section-fdded293-f466-4d5b-ab08-d1ccedd81a14' class='xr-section-summary' >Coordinates: <span>(2)</span></label><div class='xr-section-inline-details'></div><div class='xr-section-details'><ul class='xr-var-list'><li class='xr-var-item'><div class='xr-var-name'><span class='xr-has-index'>index</span></div><div class='xr-var-dims'>(index)</div><div class='xr-var-dtype'>int64</div><div class='xr-var-preview xr-preview'>0 1 2 3 4 ... 2373 2374 2375 2376</div><input id='attrs-6deabb00-6cc5-4283-b14e-27639419140d' class='xr-var-attrs-in' type='checkbox' disabled><label for='attrs-6deabb00-6cc5-4283-b14e-27639419140d' title='Show/Hide attributes'><svg class='icon xr-icon-file-text2'><use xlink:href='#icon-file-text2'></use></svg></label><input id='data-1f381220-c798-4975-b622-506f01959cfa' class='xr-var-data-in' type='checkbox'><label for='data-1f381220-c798-4975-b622-506f01959cfa' title='Show/Hide data repr'><svg class='icon xr-icon-database'><use xlink:href='#icon-database'></use></svg></label><div class='xr-var-attrs'><dl class='xr-attrs'></dl></div><div class='xr-var-data'><pre>array([   0,    1,    2, ..., 2374, 2375, 2376])</pre></div></li><li class='xr-var-item'><div class='xr-var-name'><span class='xr-has-index'>time</span></div><div class='xr-var-dims'>(time)</div><div class='xr-var-dtype'>datetime64[ns]</div><div class='xr-var-preview xr-preview'>1980-01-01T01:00:00 ... 2021-01-01</div><input id='attrs-5be1cc2e-1d6f-496e-9b96-618b086eb040' class='xr-var-attrs-in' type='checkbox' ><label for='attrs-5be1cc2e-1d6f-496e-9b96-618b086eb040' title='Show/Hide attributes'><svg class='icon xr-icon-file-text2'><use xlink:href='#icon-file-text2'></use></svg></label><input id='data-45be43cd-4dd5-4291-a035-ae7df45282d8' class='xr-var-data-in' type='checkbox'><label for='data-45be43cd-4dd5-4291-a035-ae7df45282d8' title='Show/Hide data repr'><svg class='icon xr-icon-database'><use xlink:href='#icon-database'></use></svg></label><div class='xr-var-attrs'><dl class='xr-attrs'><dt><span>long_name :</span></dt><dd>Time</dd><dt><span>base_date :</span></dt><dd> 1979 12  1       0.00       0.00</dd><dt><span>standard_name :</span></dt><dd>time</dd></dl></div><div class='xr-var-data'><pre>array([&#x27;1980-01-01T01:00:00.000000000&#x27;, &#x27;1980-01-01T02:00:00.000000000&#x27;,\n",
       "       &#x27;1980-01-01T03:00:00.000000000&#x27;, ..., &#x27;2020-12-31T22:00:00.000000000&#x27;,\n",
       "       &#x27;2020-12-31T23:00:00.000000000&#x27;, &#x27;2021-01-01T00:00:00.000000000&#x27;],\n",
       "      dtype=&#x27;datetime64[ns]&#x27;)</pre></div></li></ul></div></li><li class='xr-section-item'><input id='section-6b6d13f7-8bc8-4c2d-ab22-c65765ae1567' class='xr-section-summary-in' type='checkbox'  checked><label for='section-6b6d13f7-8bc8-4c2d-ab22-c65765ae1567' class='xr-section-summary' >Data variables: <span>(8)</span></label><div class='xr-section-inline-details'></div><div class='xr-section-details'><ul class='xr-var-list'><li class='xr-var-item'><div class='xr-var-name'><span>longitude</span></div><div class='xr-var-dims'>(index)</div><div class='xr-var-dtype'>float64</div><div class='xr-var-preview xr-preview'>169.8 169.8 169.8 ... 166.5 166.5</div><input id='attrs-b0942aa0-d1ea-4574-aab8-c40b93895479' class='xr-var-attrs-in' type='checkbox' disabled><label for='attrs-b0942aa0-d1ea-4574-aab8-c40b93895479' title='Show/Hide attributes'><svg class='icon xr-icon-file-text2'><use xlink:href='#icon-file-text2'></use></svg></label><input id='data-7e73576a-3676-4185-88ab-cb8059388aee' class='xr-var-data-in' type='checkbox'><label for='data-7e73576a-3676-4185-88ab-cb8059388aee' title='Show/Hide data repr'><svg class='icon xr-icon-database'><use xlink:href='#icon-database'></use></svg></label><div class='xr-var-attrs'><dl class='xr-attrs'></dl></div><div class='xr-var-data'><pre>array([169.77335014, 169.77054921, 169.77335014, ..., 166.54917115,\n",
       "       166.54562393, 166.54766069])</pre></div></li><li class='xr-var-item'><div class='xr-var-name'><span>latitude</span></div><div class='xr-var-dims'>(index)</div><div class='xr-var-dtype'>float64</div><div class='xr-var-preview xr-preview'>-20.25 -20.25 ... -13.08 -13.07</div><input id='attrs-a130956a-79d0-4c86-b0a6-220dc33fdede' class='xr-var-attrs-in' type='checkbox' disabled><label for='attrs-a130956a-79d0-4c86-b0a6-220dc33fdede' title='Show/Hide attributes'><svg class='icon xr-icon-file-text2'><use xlink:href='#icon-file-text2'></use></svg></label><input id='data-033e59c6-a045-4026-a0e5-a2f71f43e716' class='xr-var-data-in' type='checkbox'><label for='data-033e59c6-a045-4026-a0e5-a2f71f43e716' title='Show/Hide data repr'><svg class='icon xr-icon-database'><use xlink:href='#icon-database'></use></svg></label><div class='xr-var-attrs'><dl class='xr-attrs'></dl></div><div class='xr-var-data'><pre>array([-20.24718627, -20.25032886, -20.24718627, ..., -13.08943188,\n",
       "       -13.08430053, -13.07253674])</pre></div></li><li class='xr-var-item'><div class='xr-var-name'><span>node_idx</span></div><div class='xr-var-dims'>(index)</div><div class='xr-var-dtype'>int64</div><div class='xr-var-preview xr-preview'>97728 97735 97728 ... 3141 3164</div><input id='attrs-fa61ebc7-b3ba-4184-9484-fef92b0936a1' class='xr-var-attrs-in' type='checkbox' disabled><label for='attrs-fa61ebc7-b3ba-4184-9484-fef92b0936a1' title='Show/Hide attributes'><svg class='icon xr-icon-file-text2'><use xlink:href='#icon-file-text2'></use></svg></label><input id='data-439b601f-8d71-4518-96de-12f1679faf3c' class='xr-var-data-in' type='checkbox'><label for='data-439b601f-8d71-4518-96de-12f1679faf3c' title='Show/Hide data repr'><svg class='icon xr-icon-database'><use xlink:href='#icon-database'></use></svg></label><div class='xr-var-attrs'><dl class='xr-attrs'></dl></div><div class='xr-var-data'><pre>array([97728, 97735, 97728, ...,  3210,  3141,  3164])</pre></div></li><li class='xr-var-item'><div class='xr-var-name'><span>kns</span></div><div class='xr-var-dims'>(index)</div><div class='xr-var-dtype'>int64</div><div class='xr-var-preview xr-preview'>5 10 5 10 10 10 ... 5 10 10 10 10 5</div><input id='attrs-61d47c06-f39f-47b5-ac61-c5d808a10222' class='xr-var-attrs-in' type='checkbox' disabled><label for='attrs-61d47c06-f39f-47b5-ac61-c5d808a10222' title='Show/Hide attributes'><svg class='icon xr-icon-file-text2'><use xlink:href='#icon-file-text2'></use></svg></label><input id='data-7b633ba2-3feb-49f4-97b5-c20f82e36325' class='xr-var-data-in' type='checkbox'><label for='data-7b633ba2-3feb-49f4-97b5-c20f82e36325' title='Show/Hide data repr'><svg class='icon xr-icon-database'><use xlink:href='#icon-database'></use></svg></label><div class='xr-var-attrs'><dl class='xr-attrs'></dl></div><div class='xr-var-data'><pre>array([ 5, 10,  5, ..., 10, 10,  5])</pre></div></li><li class='xr-var-item'><div class='xr-var-name'><span>node_lons</span></div><div class='xr-var-dims'>(index)</div><div class='xr-var-dtype'>float64</div><div class='xr-var-preview xr-preview'>169.8 169.8 169.8 ... 166.5 166.5</div><input id='attrs-5aa166c2-74c1-4586-a110-cf8d0b9809eb' class='xr-var-attrs-in' type='checkbox' disabled><label for='attrs-5aa166c2-74c1-4586-a110-cf8d0b9809eb' title='Show/Hide attributes'><svg class='icon xr-icon-file-text2'><use xlink:href='#icon-file-text2'></use></svg></label><input id='data-32201373-40b6-4d8d-97c0-0944d7f106b3' class='xr-var-data-in' type='checkbox'><label for='data-32201373-40b6-4d8d-97c0-0944d7f106b3' title='Show/Hide data repr'><svg class='icon xr-icon-database'><use xlink:href='#icon-database'></use></svg></label><div class='xr-var-attrs'><dl class='xr-attrs'></dl></div><div class='xr-var-data'><pre>array([169.77207, 169.77167, 169.77207, ..., 166.5482 , 166.54499,\n",
       "       166.5459 ])</pre></div></li><li class='xr-var-item'><div class='xr-var-name'><span>node_lats</span></div><div class='xr-var-dims'>(index)</div><div class='xr-var-dtype'>float64</div><div class='xr-var-preview xr-preview'>-20.25 -20.25 ... -13.09 -13.07</div><input id='attrs-7755ed2a-7e9d-48d5-84bd-6b6127812a3a' class='xr-var-attrs-in' type='checkbox' disabled><label for='attrs-7755ed2a-7e9d-48d5-84bd-6b6127812a3a' title='Show/Hide attributes'><svg class='icon xr-icon-file-text2'><use xlink:href='#icon-file-text2'></use></svg></label><input id='data-07ee0763-f344-4f1c-ba7b-3ce4f4019750' class='xr-var-data-in' type='checkbox'><label for='data-07ee0763-f344-4f1c-ba7b-3ce4f4019750' title='Show/Hide data repr'><svg class='icon xr-icon-database'><use xlink:href='#icon-database'></use></svg></label><div class='xr-var-attrs'><dl class='xr-attrs'></dl></div><div class='xr-var-data'><pre>array([-20.24632, -20.25469, -20.24632, ..., -13.09304, -13.09   ,\n",
       "       -13.0728 ])</pre></div></li><li class='xr-var-item'><div class='xr-var-name'><span>depth</span></div><div class='xr-var-dims'>(index)</div><div class='xr-var-dtype'>float32</div><div class='xr-var-preview xr-preview'>1.11 0.37 1.11 ... 7.08 19.89 2.71</div><input id='attrs-ede4d1ad-2aec-43ad-811f-4e52698ac4c6' class='xr-var-attrs-in' type='checkbox' disabled><label for='attrs-ede4d1ad-2aec-43ad-811f-4e52698ac4c6' title='Show/Hide attributes'><svg class='icon xr-icon-file-text2'><use xlink:href='#icon-file-text2'></use></svg></label><input id='data-35af99d8-d916-4f31-b077-f1a45eaaf0e0' class='xr-var-data-in' type='checkbox'><label for='data-35af99d8-d916-4f31-b077-f1a45eaaf0e0' title='Show/Hide data repr'><svg class='icon xr-icon-database'><use xlink:href='#icon-database'></use></svg></label><div class='xr-var-attrs'><dl class='xr-attrs'></dl></div><div class='xr-var-data'><pre>array([ 1.11,  0.37,  1.11, ...,  7.08, 19.89,  2.71], dtype=float32)</pre></div></li><li class='xr-var-item'><div class='xr-var-name'><span>elev</span></div><div class='xr-var-dims'>(time, index)</div><div class='xr-var-dtype'>float32</div><div class='xr-var-preview xr-preview'>-0.2643 -0.248 ... -0.04967</div><input id='attrs-eaf852af-74f7-4a7c-9081-5c9f19c4b6fd' class='xr-var-attrs-in' type='checkbox' ><label for='attrs-eaf852af-74f7-4a7c-9081-5c9f19c4b6fd' title='Show/Hide attributes'><svg class='icon xr-icon-file-text2'><use xlink:href='#icon-file-text2'></use></svg></label><input id='data-01e5ceaf-d2c4-4313-82de-99881d78dab7' class='xr-var-data-in' type='checkbox'><label for='data-01e5ceaf-d2c4-4313-82de-99881d78dab7' title='Show/Hide data repr'><svg class='icon xr-icon-database'><use xlink:href='#icon-database'></use></svg></label><div class='xr-var-attrs'><dl class='xr-attrs'><dt><span>mesh :</span></dt><dd>SCHISM_hgrid</dd><dt><span>data_horizontal_center :</span></dt><dd>node</dd><dt><span>data_vertical_center :</span></dt><dd>full</dd><dt><span>i23d :</span></dt><dd>1</dd><dt><span>ivs :</span></dt><dd>1</dd></dl></div><div class='xr-var-data'><pre>array([[-0.26431698, -0.24803357, -0.26431698, ...,  0.08952913,\n",
       "         0.08928315,  0.08690952],\n",
       "       [-0.06358524, -0.04087077, -0.06358524, ...,  0.3394332 ,\n",
       "         0.33969548,  0.3433215 ],\n",
       "       [ 0.1948621 ,  0.2144389 ,  0.1948621 , ...,  0.5770563 ,\n",
       "         0.5777309 ,  0.585125  ],\n",
       "       ...,\n",
       "       [ 0.44402906,  0.46482491,  0.44402906, ...,  0.13382973,\n",
       "         0.13335146,  0.12491603],\n",
       "       [ 0.31838226,  0.34202904,  0.31838226, ...,  0.02167181,\n",
       "         0.02108696,  0.01525078],\n",
       "       [ 0.16314855,  0.18903194,  0.16314855, ..., -0.04440914,\n",
       "        -0.04502183, -0.04966653]], dtype=float32)</pre></div></li></ul></div></li><li class='xr-section-item'><input id='section-060b1e2c-94f4-4efa-9aca-6c73787e2cad' class='xr-section-summary-in' type='checkbox'  ><label for='section-060b1e2c-94f4-4efa-9aca-6c73787e2cad' class='xr-section-summary' >Indexes: <span>(2)</span></label><div class='xr-section-inline-details'></div><div class='xr-section-details'><ul class='xr-var-list'><li class='xr-var-item'><div class='xr-index-name'><div>index</div></div><div class='xr-index-preview'>PandasIndex</div><div></div><input id='index-f54b7341-a0ae-41cb-a0ee-77dcb0dab8d4' class='xr-index-data-in' type='checkbox'/><label for='index-f54b7341-a0ae-41cb-a0ee-77dcb0dab8d4' title='Show/Hide index repr'><svg class='icon xr-icon-database'><use xlink:href='#icon-database'></use></svg></label><div class='xr-index-data'><pre>PandasIndex(Int64Index([   0,    1,    2,    3,    4,    5,    6,    7,    8,    9,\n",
       "            ...\n",
       "            2367, 2368, 2369, 2370, 2371, 2372, 2373, 2374, 2375, 2376],\n",
       "           dtype=&#x27;int64&#x27;, name=&#x27;index&#x27;, length=2377))</pre></div></li><li class='xr-var-item'><div class='xr-index-name'><div>time</div></div><div class='xr-index-preview'>PandasIndex</div><div></div><input id='index-d2b07f67-5eb6-4a21-a6af-e9bee79c03cd' class='xr-index-data-in' type='checkbox'/><label for='index-d2b07f67-5eb6-4a21-a6af-e9bee79c03cd' title='Show/Hide index repr'><svg class='icon xr-icon-database'><use xlink:href='#icon-database'></use></svg></label><div class='xr-index-data'><pre>PandasIndex(DatetimeIndex([&#x27;1980-01-01 01:00:00&#x27;, &#x27;1980-01-01 02:00:00&#x27;,\n",
       "               &#x27;1980-01-01 03:00:00&#x27;, &#x27;1980-01-01 04:00:00&#x27;,\n",
       "               &#x27;1980-01-01 05:00:00&#x27;, &#x27;1980-01-01 06:00:00&#x27;,\n",
       "               &#x27;1980-01-01 07:00:00&#x27;, &#x27;1980-01-01 08:00:00&#x27;,\n",
       "               &#x27;1980-01-01 09:00:00&#x27;, &#x27;1980-01-01 10:00:00&#x27;,\n",
       "               ...\n",
       "               &#x27;2020-12-31 15:00:00&#x27;, &#x27;2020-12-31 16:00:00&#x27;,\n",
       "               &#x27;2020-12-31 17:00:00&#x27;, &#x27;2020-12-31 18:00:00&#x27;,\n",
       "               &#x27;2020-12-31 19:00:00&#x27;, &#x27;2020-12-31 20:00:00&#x27;,\n",
       "               &#x27;2020-12-31 21:00:00&#x27;, &#x27;2020-12-31 22:00:00&#x27;,\n",
       "               &#x27;2020-12-31 23:00:00&#x27;, &#x27;2021-01-01 00:00:00&#x27;],\n",
       "              dtype=&#x27;datetime64[ns]&#x27;, name=&#x27;time&#x27;, length=359424, freq=None))</pre></div></li></ul></div></li><li class='xr-section-item'><input id='section-4ef47852-796f-4468-bbb6-6746eefb7a6b' class='xr-section-summary-in' type='checkbox' disabled ><label for='section-4ef47852-796f-4468-bbb6-6746eefb7a6b' class='xr-section-summary'  title='Expand/collapse section'>Attributes: <span>(0)</span></label><div class='xr-section-inline-details'></div><div class='xr-section-details'><dl class='xr-attrs'></dl></div></li></ul></div></div>"
      ],
      "text/plain": [
       "<xarray.Dataset>\n",
       "Dimensions:    (index: 2377, time: 359424)\n",
       "Coordinates:\n",
       "  * index      (index) int64 0 1 2 3 4 5 6 ... 2371 2372 2373 2374 2375 2376\n",
       "  * time       (time) datetime64[ns] 1980-01-01T01:00:00 ... 2021-01-01\n",
       "Data variables:\n",
       "    longitude  (index) float64 169.8 169.8 169.8 169.8 ... 166.5 166.5 166.5\n",
       "    latitude   (index) float64 -20.25 -20.25 -20.25 ... -13.09 -13.08 -13.07\n",
       "    node_idx   (index) int64 97728 97735 97728 97922 ... 3238 3210 3141 3164\n",
       "    kns        (index) int64 5 10 5 10 10 10 10 5 5 ... 10 10 10 5 10 10 10 10 5\n",
       "    node_lons  (index) float64 169.8 169.8 169.8 169.8 ... 166.5 166.5 166.5\n",
       "    node_lats  (index) float64 -20.25 -20.25 -20.25 ... -13.09 -13.09 -13.07\n",
       "    depth      (index) float32 1.11 0.37 1.11 0.0 0.0 ... 24.12 7.08 19.89 2.71\n",
       "    elev       (time, index) float32 -0.2643 -0.248 ... -0.04502 -0.04967"
      ]
     },
     "execution_count": 21,
     "metadata": {},
     "output_type": "execute_result"
    }
   ],
   "source": [
    "coastpoints_ds"
   ]
  },
  {
   "cell_type": "code",
   "execution_count": 22,
   "id": "5efab20f-cf08-45e4-b0de-561a70f29d0d",
   "metadata": {},
   "outputs": [
    {
     "data": {
      "text/plain": [
       "[<matplotlib.lines.Line2D at 0x1554fc113280>]"
      ]
     },
     "execution_count": 22,
     "metadata": {},
     "output_type": "execute_result"
    },
    {
     "data": {
      "image/png": "[encoded data removed]",
      "text/plain": [
       "<Figure size 640x480 with 1 Axes>"
      ]
     },
     "metadata": {},
     "output_type": "display_data"
    }
   ],
   "source": [
    "coastpoints_ds.isel(index=1000).elev.plot()"
   ]
  },
  {
   "cell_type": "code",
   "execution_count": 23,
   "id": "a69b6d04-29e2-408b-bf47-c682b5db8452",
   "metadata": {},
   "outputs": [],
   "source": [
    "data = coastpoints_ds.elev.isel(index=0).to_series()\n",
    "\n",
    "return_period = [10, 50, 100]\n",
    "dist_params = ['thres/loc', 'c', 'scale']\n",
    "\n",
    "model = EVA(data)\n",
    "thres = np.percentile(data, 99.8)\n",
    "model.get_extremes(method=\"POT\", threshold=thres, r=\"24H\")\n",
    "model.fit_model()\n",
    "\n",
    "summary = model.get_summary(return_period=return_period, alpha=0.95)"
   ]
  },
  {
   "cell_type": "code",
   "execution_count": 24,
   "id": "7d7eb2a7-43ba-4431-84d6-dd9f49058c83",
   "metadata": {},
   "outputs": [
    {
     "data": {
      "text/plain": [
       "(<Figure size 768x768 with 4 Axes>,\n",
       " (<Axes: title={'center': 'Return value plot'}, xlabel='Return period', ylabel='elev'>,\n",
       "  <Axes: title={'center': 'Probability density plot'}, xlabel='elev', ylabel='Probability density'>,\n",
       "  <Axes: title={'center': 'Q-Q plot'}, xlabel='Theoretical', ylabel='Observed'>,\n",
       "  <Axes: title={'center': 'P-P plot'}, xlabel='Theoretical', ylabel='Observed'>))"
      ]
     },
     "execution_count": 24,
     "metadata": {},
     "output_type": "execute_result"
    },
    {
     "data": {
      "image/png": "[encoded data removed]",
      "text/plain": [
       "<Figure size 768x768 with 4 Axes>"
      ]
     },
     "metadata": {},
     "output_type": "display_data"
    }
   ],
   "source": [
    "model.plot_diagnostic()"
   ]
  },
  {
   "cell_type": "code",
   "execution_count": 25,
   "id": "ea1005f3-d213-4ed0-8c34-620ac02d01ed",
   "metadata": {},
   "outputs": [
    {
     "data": {
      "text/html": [
       "<div>\n",
       "<style scoped>\n",
       "    .dataframe tbody tr th:only-of-type {\n",
       "        vertical-align: middle;\n",
       "    }\n",
       "\n",
       "    .dataframe tbody tr th {\n",
       "        vertical-align: top;\n",
       "    }\n",
       "\n",
       "    .dataframe thead th {\n",
       "        text-align: right;\n",
       "    }\n",
       "</style>\n",
       "<table border=\"1\" class=\"dataframe\">\n",
       "  <thead>\n",
       "    <tr style=\"text-align: right;\">\n",
       "      <th></th>\n",
       "      <th>elev</th>\n",
       "      <th>exceedance probability</th>\n",
       "      <th>return period</th>\n",
       "    </tr>\n",
       "    <tr>\n",
       "      <th>time</th>\n",
       "      <th></th>\n",
       "      <th></th>\n",
       "      <th></th>\n",
       "    </tr>\n",
       "  </thead>\n",
       "  <tbody>\n",
       "    <tr>\n",
       "      <th>2009-03-12 20:00:00</th>\n",
       "      <td>0.722919</td>\n",
       "      <td>0.977477</td>\n",
       "      <td>0.189808</td>\n",
       "    </tr>\n",
       "    <tr>\n",
       "      <th>1985-01-19 05:00:00</th>\n",
       "      <td>0.722919</td>\n",
       "      <td>0.981982</td>\n",
       "      <td>0.188937</td>\n",
       "    </tr>\n",
       "    <tr>\n",
       "      <th>2012-10-27 05:00:00</th>\n",
       "      <td>0.722762</td>\n",
       "      <td>0.986486</td>\n",
       "      <td>0.188074</td>\n",
       "    </tr>\n",
       "    <tr>\n",
       "      <th>2015-01-03 05:00:00</th>\n",
       "      <td>0.722743</td>\n",
       "      <td>0.990991</td>\n",
       "      <td>0.187220</td>\n",
       "    </tr>\n",
       "    <tr>\n",
       "      <th>2012-11-15 07:00:00</th>\n",
       "      <td>0.722677</td>\n",
       "      <td>0.995495</td>\n",
       "      <td>0.186372</td>\n",
       "    </tr>\n",
       "  </tbody>\n",
       "</table>\n",
       "</div>"
      ],
      "text/plain": [
       "                         elev  exceedance probability  return period\n",
       "time                                                                \n",
       "2009-03-12 20:00:00  0.722919                0.977477       0.189808\n",
       "1985-01-19 05:00:00  0.722919                0.981982       0.188937\n",
       "2012-10-27 05:00:00  0.722762                0.986486       0.188074\n",
       "2015-01-03 05:00:00  0.722743                0.990991       0.187220\n",
       "2012-11-15 07:00:00  0.722677                0.995495       0.186372"
      ]
     },
     "execution_count": 25,
     "metadata": {},
     "output_type": "execute_result"
    }
   ],
   "source": [
    "# This cell extracts the \"observed\" or emperical return period events\n",
    "from pyextremes import get_extremes, get_return_periods\n",
    "extremes = get_extremes(\n",
    "    ts=data,\n",
    "    method=\"POT\",\n",
    "    threshold=thres,\n",
    "    r=\"24H\"\n",
    ")\n",
    "observed_return_values = get_return_periods(\n",
    "    ts=data,\n",
    "    extremes=extremes,\n",
    "    extremes_method=\"POT\",\n",
    "    extremes_type=\"high\",\n",
    "    # return_period_size=\"365.2425D\",\n",
    "    # plotting_position=\"weibull\",\n",
    ")\n",
    "observed_return_values.sort_values(\"return period\", ascending=False).tail()"
   ]
  },
  {
   "cell_type": "code",
   "execution_count": 26,
   "id": "2f71eee6-bca8-4213-9bd0-7f166efa04f3",
   "metadata": {},
   "outputs": [],
   "source": [
    "# This cell finds matching \"theoretical\" or fitted return period events\n",
    "observed = observed_return_values.loc[:, model.extremes.name].values\n",
    "theoretical = model.extremes_transformer.transform(model.model.isf(\n",
    "    observed_return_values.loc[:, \"exceedance probability\"].values))"
   ]
  },
  {
   "cell_type": "code",
   "execution_count": 27,
   "id": "fc494c86-502d-4f73-a994-41500e8d6030",
   "metadata": {},
   "outputs": [
    {
     "data": {
      "text/plain": [
       "'high'"
      ]
     },
     "execution_count": 27,
     "metadata": {},
     "output_type": "execute_result"
    }
   ],
   "source": [
    "model.extremes_type"
   ]
  },
  {
   "cell_type": "code",
   "execution_count": 28,
   "id": "cf888a1e-7ab8-4515-bc68-b080cf73ffba",
   "metadata": {},
   "outputs": [],
   "source": [
    "def extremes_R(model, Ryears=5):\n",
    "    extremes = model.extremes\n",
    "    observed_return_values = get_return_periods(ts=model.data,\n",
    "        extremes=model.extremes,\n",
    "        extremes_method=model.extremes_method,\n",
    "        extremes_type=model.extremes_type,\n",
    "        return_period_size=\"365.2425D\")\n",
    "    \n",
    "    observed = observed_return_values.loc[:, model.extremes.name].values\n",
    "    theoretical = model.extremes_transformer.transform(model.model.isf(observed_return_values.loc[:, \"exceedance probability\"].values))\n",
    "    \n",
    "    # pearsonr, p_value = stats.pearsonr(theoretical, observed)\n",
    "    idx = observed_return_values.loc[:, 'return period'].values>Ryears\n",
    "    pearsonr, p_value = stats.pearsonr(theoretical[idx], observed[idx])\n",
    "    return pearsonr, p_value"
   ]
  },
  {
   "cell_type": "code",
   "execution_count": 29,
   "id": "f7dfbd29-03b3-4969-963b-3ea853cf6edc",
   "metadata": {},
   "outputs": [
    {
     "name": "stdout",
     "output_type": "stream",
     "text": [
      "R = 0.9961269555084045, p = 1.4482217961398312e-07\n"
     ]
    }
   ],
   "source": [
    "pearsonr, p_value = extremes_R(model)\n",
    "print(f'R = {pearsonr}, p = {p_value}')"
   ]
  },
  {
   "cell_type": "code",
   "execution_count": 30,
   "id": "2ca5d9f2-374e-4c16-a4b0-b8b38e965f55",
   "metadata": {},
   "outputs": [
    {
     "name": "stdout",
     "output_type": "stream",
     "text": [
      "R = 0.9961269555084045,p = 1.4482217961398312e-07\n"
     ]
    },
    {
     "data": {
      "image/png": "[encoded data removed]",
      "text/plain": [
       "<Figure size 640x480 with 1 Axes>"
      ]
     },
     "metadata": {},
     "output_type": "display_data"
    }
   ],
   "source": [
    "# compare/look at results\n",
    "\n",
    "\n",
    "pearsonr, p_value = stats.pearsonr(theoretical, observed)\n",
    "idx = observed_return_values.loc[:, 'return period'].values>5.\n",
    "pearsonr, p_value = stats.pearsonr(theoretical[idx], observed[idx])\n",
    "print(f'R = {pearsonr},p = {p_value}')\n",
    "\n",
    "x_equal_y = np.stack((theoretical[idx], observed[idx])).ravel()\n",
    "x_equal_y=[x_equal_y.min(),x_equal_y.max()]\n",
    "\n",
    "plt.scatter(theoretical[idx], observed[idx])\n",
    "plt.xlabel('theoretical')\n",
    "plt.ylabel('observed')\n",
    "plt.plot(x_equal_y,x_equal_y,':k')\n",
    "ax = plt.gca()\n",
    "ax.set_aspect('equal', adjustable='box')"
   ]
  },
  {
   "cell_type": "markdown",
   "id": "87cc1664-c756-4299-9d9e-65a7c671f2a2",
   "metadata": {},
   "source": [
    "#### create dataframe and populate with EVA information (GPD fit parameters, return level, etc)"
   ]
  },
  {
   "cell_type": "code",
   "execution_count": 33,
   "id": "7ebe489e-a3fa-49ae-82f5-1c7090d05cd9",
   "metadata": {},
   "outputs": [],
   "source": [
    "# create dataframe based on coastpoints_ds and add required fields\n",
    "coastpoints_eva_df = coastpoints_ds.drop('elev').drop('time').to_dataframe()\n",
    "return_period = [10, 50, 100]\n",
    "coastpoints_eva_df['mean'] = coastpoints_ds.elev.mean(dim='time').values\n",
    "coastpoints_eva_df['max'] = coastpoints_ds.elev.max(dim='time').values\n",
    "coastpoints_eva_df['p99'] = coastpoints_ds.elev.quantile(0.99, dim='time').values\n",
    "coastpoints_eva_df['p99.8'] = coastpoints_ds.elev.quantile(0.998, dim='time').values\n",
    "dist_params = ['R','c', 'scale']\n",
    "nnodes = coastpoints_eva_df.index.shape\n",
    "nan_col = np.ones(nnodes)*np.nan\n",
    "\n",
    "for col in dist_params:\n",
    "    coastpoints_eva_df[col]=nan_col\n",
    "for rt in return_period:\n",
    "    coastpoints_eva_df[f'{rt}']=nan_col\n",
    "    coastpoints_eva_df[f'{rt} lower ci']=nan_col\n",
    "    coastpoints_eva_df[f'{rt} upper ci']=nan_col"
   ]
  },
  {
   "cell_type": "code",
   "execution_count": 32,
   "id": "35b87579-86c6-4e2e-8889-0a53481c1f8f",
   "metadata": {},
   "outputs": [],
   "source": [
    "from tqdm import tqdm\n",
    "\n"
   ]
  },
  {
   "cell_type": "code",
   "execution_count": 33,
   "id": "2cd449b8-ffba-42b6-b634-dfb3635031ce",
   "metadata": {},
   "outputs": [],
   "source": [
    "# coastpoints_eva_df"
   ]
  },
  {
   "cell_type": "code",
   "execution_count": 34,
   "id": "0aab59fd-6be2-441b-867b-64e7ef15f9e9",
   "metadata": {},
   "outputs": [
    {
     "name": "stderr",
     "output_type": "stream",
     "text": [
      "Iterations completed: 100%|██████████| 2377/2377 [08:24<00:00,  4.71it/s]\n"
     ]
    }
   ],
   "source": [
    "# populated EVA dataframe by fitting EVA/GPD model to each elev timeseries\n",
    "# for idx in coastpoints_eva_df.index:\n",
    "#     data = coastpoints_ds.elev.isel(index=idx).to_series()\n",
    "#     model = EVA(data)\n",
    "#     thres = np.percentile(data, 99)\n",
    "#     model.get_extremes(method=\"POT\", threshold=thres, r=\"24H\")\n",
    "#     try:\n",
    "#         model.fit_model()\n",
    "#         summary = model.get_summary(return_period=return_period, alpha=0.95,n_samples=1000,)\n",
    "#         coastpoints_eva_df.loc[idx,'thres/loc'] = thres\n",
    "#         for key, val in model.distribution.mle_parameters.items():\n",
    "#             coastpoints_eva_df.loc[idx,key] = val\n",
    "#         for rt in return_period:\n",
    "#             coastpoints_eva_df.loc[idx,f'{rt}'] = summary.loc[rt,'return value']\n",
    "#             coastpoints_eva_df.loc[idx,f'{rt} lower ci'] = summary.loc[rt,'lower ci']\n",
    "#             coastpoints_eva_df.loc[idx,f'{rt} upper ci'] = summary.loc[rt,'upper ci']\n",
    "#     except:\n",
    "#         print(f'error at point {idx} skipping!')\n",
    "\n",
    "\n",
    "for idx in tqdm(range(nnodes[0]), desc='Iterations completed'):\n",
    "    if coastpoints_eva_df['p99.8'].loc[idx]>0.25:\n",
    "        try:\n",
    "            data = coastpoints_ds.elev.isel(index=idx).to_series()\n",
    "            model = EVA(data)\n",
    "            thres = coastpoints_eva_df['p99.8'].loc[idx]\n",
    "            model.get_extremes(method=\"POT\", threshold=thres, r=\"24H\")\n",
    "            model.fit_model()\n",
    "            summary = model.get_summary(return_period=return_period, alpha=0.95)\n",
    "            pearsonr, p_value = extremes_R(model)\n",
    "            coastpoints_eva_df.loc[idx,'R'] = pearsonr\n",
    "            for key, val in model.distribution.mle_parameters.items():\n",
    "                coastpoints_eva_df.loc[idx,key] = val\n",
    "            for rt in return_period:\n",
    "                coastpoints_eva_df.loc[idx,f'{rt}'] = summary.loc[rt,'return value']\n",
    "                coastpoints_eva_df.loc[idx,f'{rt} lower ci'] = summary.loc[rt,'lower ci']\n",
    "                coastpoints_eva_df.loc[idx,f'{rt} upper ci'] = summary.loc[rt,'upper ci']\n",
    "        except:\n",
    "            print('*** something is wrong with idx={idx} in node_idxs')"
   ]
  },
  {
   "cell_type": "code",
   "execution_count": 35,
   "id": "cd41eaf8-908e-4281-a99b-ce1122ec23f3",
   "metadata": {},
   "outputs": [],
   "source": [
    "# Save data out\n",
    "today = pd.Timestamp('today')\n",
    "# coastpoints_eva_df.to_csv(f'{base_path}/schism/EVA/Hindcast_v3_coastal_points_schism_elev_EVA_RT.csv')\n",
    "coastpoints_eva_df.to_csv(f'{base_path}/schism/EVA/Hindcast_v3_coastal_points_schism_elev_POT_p99_8_GPD_ARI_{today:%Y%m%d}.csv')\n",
    "# load result\n",
    "# coastpoints_eva_df = pd.read_csv(f'{base_path}/TWL_calc/coastal_points_schism_elev_EVA_RT.csv')"
   ]
  },
  {
   "cell_type": "code",
   "execution_count": 36,
   "id": "a5553802-d0b7-4dd6-8f6d-ba32eb68a22b",
   "metadata": {},
   "outputs": [],
   "source": [
    "coastpoints_eva_df.to_xarray().to_netcdf(f'{base_path}/schism/Hindcast_v3_coastal_points_schism_elev_POT_p99_8_GPD_ARI_{today:%Y%m%d}.nc')"
   ]
  },
  {
   "cell_type": "code",
   "execution_count": 37,
   "id": "0fced5fa-5b35-4663-8be3-c2a49d40df19",
   "metadata": {},
   "outputs": [
    {
     "data": {
      "text/html": [
       "<div>\n",
       "<style scoped>\n",
       "    .dataframe tbody tr th:only-of-type {\n",
       "        vertical-align: middle;\n",
       "    }\n",
       "\n",
       "    .dataframe tbody tr th {\n",
       "        vertical-align: top;\n",
       "    }\n",
       "\n",
       "    .dataframe thead th {\n",
       "        text-align: right;\n",
       "    }\n",
       "</style>\n",
       "<table border=\"1\" class=\"dataframe\">\n",
       "  <thead>\n",
       "    <tr style=\"text-align: right;\">\n",
       "      <th></th>\n",
       "      <th>mean</th>\n",
       "      <th>max</th>\n",
       "      <th>p99</th>\n",
       "      <th>R</th>\n",
       "      <th>c</th>\n",
       "      <th>scale</th>\n",
       "      <th>10</th>\n",
       "      <th>50</th>\n",
       "      <th>100</th>\n",
       "    </tr>\n",
       "    <tr>\n",
       "      <th>index</th>\n",
       "      <th></th>\n",
       "      <th></th>\n",
       "      <th></th>\n",
       "      <th></th>\n",
       "      <th></th>\n",
       "      <th></th>\n",
       "      <th></th>\n",
       "      <th></th>\n",
       "      <th></th>\n",
       "    </tr>\n",
       "  </thead>\n",
       "  <tbody>\n",
       "    <tr>\n",
       "      <th>0</th>\n",
       "      <td>0.026832</td>\n",
       "      <td>1.196230</td>\n",
       "      <td>0.643764</td>\n",
       "      <td>0.996127</td>\n",
       "      <td>0.337591</td>\n",
       "      <td>0.023300</td>\n",
       "      <td>0.918817</td>\n",
       "      <td>1.110202</td>\n",
       "      <td>1.230571</td>\n",
       "    </tr>\n",
       "    <tr>\n",
       "      <th>1</th>\n",
       "      <td>0.071855</td>\n",
       "      <td>1.423918</td>\n",
       "      <td>0.679135</td>\n",
       "      <td>0.993631</td>\n",
       "      <td>0.314221</td>\n",
       "      <td>0.033246</td>\n",
       "      <td>1.008176</td>\n",
       "      <td>1.236704</td>\n",
       "      <td>1.376804</td>\n",
       "    </tr>\n",
       "    <tr>\n",
       "      <th>2</th>\n",
       "      <td>0.026832</td>\n",
       "      <td>1.196230</td>\n",
       "      <td>0.643764</td>\n",
       "      <td>0.996127</td>\n",
       "      <td>0.337591</td>\n",
       "      <td>0.023300</td>\n",
       "      <td>0.918817</td>\n",
       "      <td>1.110202</td>\n",
       "      <td>1.230571</td>\n",
       "    </tr>\n",
       "    <tr>\n",
       "      <th>3</th>\n",
       "      <td>0.034949</td>\n",
       "      <td>1.221539</td>\n",
       "      <td>0.647417</td>\n",
       "      <td>0.980270</td>\n",
       "      <td>0.309691</td>\n",
       "      <td>0.023927</td>\n",
       "      <td>0.912351</td>\n",
       "      <td>1.081266</td>\n",
       "      <td>1.184307</td>\n",
       "    </tr>\n",
       "    <tr>\n",
       "      <th>4</th>\n",
       "      <td>0.034949</td>\n",
       "      <td>1.221539</td>\n",
       "      <td>0.647417</td>\n",
       "      <td>0.980270</td>\n",
       "      <td>0.309691</td>\n",
       "      <td>0.023927</td>\n",
       "      <td>0.912351</td>\n",
       "      <td>1.081266</td>\n",
       "      <td>1.184307</td>\n",
       "    </tr>\n",
       "    <tr>\n",
       "      <th>...</th>\n",
       "      <td>...</td>\n",
       "      <td>...</td>\n",
       "      <td>...</td>\n",
       "      <td>...</td>\n",
       "      <td>...</td>\n",
       "      <td>...</td>\n",
       "      <td>...</td>\n",
       "      <td>...</td>\n",
       "      <td>...</td>\n",
       "    </tr>\n",
       "    <tr>\n",
       "      <th>2372</th>\n",
       "      <td>0.066854</td>\n",
       "      <td>0.987597</td>\n",
       "      <td>0.718779</td>\n",
       "      <td>0.970169</td>\n",
       "      <td>NaN</td>\n",
       "      <td>0.036863</td>\n",
       "      <td>0.951300</td>\n",
       "      <td>1.010629</td>\n",
       "      <td>1.036180</td>\n",
       "    </tr>\n",
       "    <tr>\n",
       "      <th>2373</th>\n",
       "      <td>0.066938</td>\n",
       "      <td>0.987741</td>\n",
       "      <td>0.718770</td>\n",
       "      <td>0.970313</td>\n",
       "      <td>NaN</td>\n",
       "      <td>0.036949</td>\n",
       "      <td>0.951619</td>\n",
       "      <td>1.011087</td>\n",
       "      <td>1.036698</td>\n",
       "    </tr>\n",
       "    <tr>\n",
       "      <th>2374</th>\n",
       "      <td>0.066774</td>\n",
       "      <td>0.987676</td>\n",
       "      <td>0.718459</td>\n",
       "      <td>0.973295</td>\n",
       "      <td>NaN</td>\n",
       "      <td>0.037410</td>\n",
       "      <td>0.952763</td>\n",
       "      <td>1.012972</td>\n",
       "      <td>1.038903</td>\n",
       "    </tr>\n",
       "    <tr>\n",
       "      <th>2375</th>\n",
       "      <td>0.066788</td>\n",
       "      <td>0.988460</td>\n",
       "      <td>0.719093</td>\n",
       "      <td>0.972556</td>\n",
       "      <td>NaN</td>\n",
       "      <td>0.037367</td>\n",
       "      <td>0.953450</td>\n",
       "      <td>1.013589</td>\n",
       "      <td>1.039490</td>\n",
       "    </tr>\n",
       "    <tr>\n",
       "      <th>2376</th>\n",
       "      <td>0.063070</td>\n",
       "      <td>0.995547</td>\n",
       "      <td>0.713291</td>\n",
       "      <td>0.987733</td>\n",
       "      <td>NaN</td>\n",
       "      <td>0.037656</td>\n",
       "      <td>0.946520</td>\n",
       "      <td>1.007126</td>\n",
       "      <td>1.033227</td>\n",
       "    </tr>\n",
       "  </tbody>\n",
       "</table>\n",
       "<p>2377 rows × 9 columns</p>\n",
       "</div>"
      ],
      "text/plain": [
       "           mean       max       p99         R         c     scale        10  \\\n",
       "index                                                                         \n",
       "0      0.026832  1.196230  0.643764  0.996127  0.337591  0.023300  0.918817   \n",
       "1      0.071855  1.423918  0.679135  0.993631  0.314221  0.033246  1.008176   \n",
       "2      0.026832  1.196230  0.643764  0.996127  0.337591  0.023300  0.918817   \n",
       "3      0.034949  1.221539  0.647417  0.980270  0.309691  0.023927  0.912351   \n",
       "4      0.034949  1.221539  0.647417  0.980270  0.309691  0.023927  0.912351   \n",
       "...         ...       ...       ...       ...       ...       ...       ...   \n",
       "2372   0.066854  0.987597  0.718779  0.970169       NaN  0.036863  0.951300   \n",
       "2373   0.066938  0.987741  0.718770  0.970313       NaN  0.036949  0.951619   \n",
       "2374   0.066774  0.987676  0.718459  0.973295       NaN  0.037410  0.952763   \n",
       "2375   0.066788  0.988460  0.719093  0.972556       NaN  0.037367  0.953450   \n",
       "2376   0.063070  0.995547  0.713291  0.987733       NaN  0.037656  0.946520   \n",
       "\n",
       "             50       100  \n",
       "index                      \n",
       "0      1.110202  1.230571  \n",
       "1      1.236704  1.376804  \n",
       "2      1.110202  1.230571  \n",
       "3      1.081266  1.184307  \n",
       "4      1.081266  1.184307  \n",
       "...         ...       ...  \n",
       "2372   1.010629  1.036180  \n",
       "2373   1.011087  1.036698  \n",
       "2374   1.012972  1.038903  \n",
       "2375   1.013589  1.039490  \n",
       "2376   1.007126  1.033227  \n",
       "\n",
       "[2377 rows x 9 columns]"
      ]
     },
     "execution_count": 37,
     "metadata": {},
     "output_type": "execute_result"
    }
   ],
   "source": [
    "coastpoints_eva_df[['mean','max','p99','R','c','scale','10','50','100']]"
   ]
  },
  {
   "cell_type": "code",
   "execution_count": 46,
   "id": "7e9081cf-387e-4a6a-8329-3bb09c89f2f7",
   "metadata": {},
   "outputs": [],
   "source": [
    "stride = 25\n",
    "for idx in np.arange(0, len(coastpoints_eva_df.index)+1, stride):\n",
    "    row=coastpoints_eva_df.iloc[[idx]]\n",
    "    node_idx = row['node_idx'].values[0]\n",
    "    data = coastpoints_ds.elev.isel(index=idx).to_series()\n",
    "    model = EVA(data)\n",
    "    thres = np.percentile(data, 99.8)\n",
    "    model.get_extremes(method=\"POT\", threshold=thres, r=\"24H\")\n",
    "    model.fit_model()\n",
    "    fig,ax =  model.plot_return_values(alpha=0.95)\n",
    "    ax.set_title(f'Water Level, node {node_idx}')\n",
    "    ax.set_ylabel('$elev$ (m)')\n",
    "    ax.set_xticks([1,5,10,50])\n",
    "    ax.set_xlim([0.5,50])\n",
    "    ax.set_xlabel('Return period (years)')\n",
    "    fig.savefig(f'{base_path}/schism/EVA/plots/SCHISM_Hindcastv3_RIplot_elev_node_{node_idx}.png')\n",
    "    # fig.clear()\n",
    "    plt.close()"
   ]
  },
  {
   "cell_type": "code",
   "execution_count": 47,
   "id": "a4701dba-da05-44bf-8ce0-db826343129d",
   "metadata": {},
   "outputs": [
    {
     "data": {
      "text/html": [
       "<div><svg style=\"position: absolute; width: 0; height: 0; overflow: hidden\">\n",
       "<defs>\n",
       "<symbol id=\"icon-database\" viewBox=\"0 0 32 32\">\n",
       "<path d=\"M16 0c-8.837 0-16 2.239-16 5v4c0 2.761 7.163 5 16 5s16-2.239 16-5v-4c0-2.761-7.163-5-16-5z\"></path>\n",
       "<path d=\"M16 17c-8.837 0-16-2.239-16-5v6c0 2.761 7.163 5 16 5s16-2.239 16-5v-6c0 2.761-7.163 5-16 5z\"></path>\n",
       "<path d=\"M16 26c-8.837 0-16-2.239-16-5v6c0 2.761 7.163 5 16 5s16-2.239 16-5v-6c0 2.761-7.163 5-16 5z\"></path>\n",
       "</symbol>\n",
       "<symbol id=\"icon-file-text2\" viewBox=\"0 0 32 32\">\n",
       "<path d=\"M28.681 7.159c-0.694-0.947-1.662-2.053-2.724-3.116s-2.169-2.030-3.116-2.724c-1.612-1.182-2.393-1.319-2.841-1.319h-15.5c-1.378 0-2.5 1.121-2.5 2.5v27c0 1.378 1.122 2.5 2.5 2.5h23c1.378 0 2.5-1.122 2.5-2.5v-19.5c0-0.448-0.137-1.23-1.319-2.841zM24.543 5.457c0.959 0.959 1.712 1.825 2.268 2.543h-4.811v-4.811c0.718 0.556 1.584 1.309 2.543 2.268zM28 29.5c0 0.271-0.229 0.5-0.5 0.5h-23c-0.271 0-0.5-0.229-0.5-0.5v-27c0-0.271 0.229-0.5 0.5-0.5 0 0 15.499-0 15.5 0v7c0 0.552 0.448 1 1 1h7v19.5z\"></path>\n",
       "<path d=\"M23 26h-14c-0.552 0-1-0.448-1-1s0.448-1 1-1h14c0.552 0 1 0.448 1 1s-0.448 1-1 1z\"></path>\n",
       "<path d=\"M23 22h-14c-0.552 0-1-0.448-1-1s0.448-1 1-1h14c0.552 0 1 0.448 1 1s-0.448 1-1 1z\"></path>\n",
       "<path d=\"M23 18h-14c-0.552 0-1-0.448-1-1s0.448-1 1-1h14c0.552 0 1 0.448 1 1s-0.448 1-1 1z\"></path>\n",
       "</symbol>\n",
       "</defs>\n",
       "</svg>\n",
       "<style>/* CSS stylesheet for displaying xarray objects in jupyterlab.\n",
       " *\n",
       " */\n",
       "\n",
       ":root {\n",
       "  --xr-font-color0: var(--jp-content-font-color0, rgba(0, 0, 0, 1));\n",
       "  --xr-font-color2: var(--jp-content-font-color2, rgba(0, 0, 0, 0.54));\n",
       "  --xr-font-color3: var(--jp-content-font-color3, rgba(0, 0, 0, 0.38));\n",
       "  --xr-border-color: var(--jp-border-color2, #e0e0e0);\n",
       "  --xr-disabled-color: var(--jp-layout-color3, #bdbdbd);\n",
       "  --xr-background-color: var(--jp-layout-color0, white);\n",
       "  --xr-background-color-row-even: var(--jp-layout-color1, white);\n",
       "  --xr-background-color-row-odd: var(--jp-layout-color2, #eeeeee);\n",
       "}\n",
       "\n",
       "html[theme=dark],\n",
       "body[data-theme=dark],\n",
       "body.vscode-dark {\n",
       "  --xr-font-color0: rgba(255, 255, 255, 1);\n",
       "  --xr-font-color2: rgba(255, 255, 255, 0.54);\n",
       "  --xr-font-color3: rgba(255, 255, 255, 0.38);\n",
       "  --xr-border-color: #1F1F1F;\n",
       "  --xr-disabled-color: #515151;\n",
       "  --xr-background-color: #111111;\n",
       "  --xr-background-color-row-even: #111111;\n",
       "  --xr-background-color-row-odd: #313131;\n",
       "}\n",
       "\n",
       ".xr-wrap {\n",
       "  display: block !important;\n",
       "  min-width: 300px;\n",
       "  max-width: 700px;\n",
       "}\n",
       "\n",
       ".xr-text-repr-fallback {\n",
       "  /* fallback to plain text repr when CSS is not injected (untrusted notebook) */\n",
       "  display: none;\n",
       "}\n",
       "\n",
       ".xr-header {\n",
       "  padding-top: 6px;\n",
       "  padding-bottom: 6px;\n",
       "  margin-bottom: 4px;\n",
       "  border-bottom: solid 1px var(--xr-border-color);\n",
       "}\n",
       "\n",
       ".xr-header > div,\n",
       ".xr-header > ul {\n",
       "  display: inline;\n",
       "  margin-top: 0;\n",
       "  margin-bottom: 0;\n",
       "}\n",
       "\n",
       ".xr-obj-type,\n",
       ".xr-array-name {\n",
       "  margin-left: 2px;\n",
       "  margin-right: 10px;\n",
       "}\n",
       "\n",
       ".xr-obj-type {\n",
       "  color: var(--xr-font-color2);\n",
       "}\n",
       "\n",
       ".xr-sections {\n",
       "  padding-left: 0 !important;\n",
       "  display: grid;\n",
       "  grid-template-columns: 150px auto auto 1fr 20px 20px;\n",
       "}\n",
       "\n",
       ".xr-section-item {\n",
       "  display: contents;\n",
       "}\n",
       "\n",
       ".xr-section-item input {\n",
       "  display: none;\n",
       "}\n",
       "\n",
       ".xr-section-item input + label {\n",
       "  color: var(--xr-disabled-color);\n",
       "}\n",
       "\n",
       ".xr-section-item input:enabled + label {\n",
       "  cursor: pointer;\n",
       "  color: var(--xr-font-color2);\n",
       "}\n",
       "\n",
       ".xr-section-item input:enabled + label:hover {\n",
       "  color: var(--xr-font-color0);\n",
       "}\n",
       "\n",
       ".xr-section-summary {\n",
       "  grid-column: 1;\n",
       "  color: var(--xr-font-color2);\n",
       "  font-weight: 500;\n",
       "}\n",
       "\n",
       ".xr-section-summary > span {\n",
       "  display: inline-block;\n",
       "  padding-left: 0.5em;\n",
       "}\n",
       "\n",
       ".xr-section-summary-in:disabled + label {\n",
       "  color: var(--xr-font-color2);\n",
       "}\n",
       "\n",
       ".xr-section-summary-in + label:before {\n",
       "  display: inline-block;\n",
       "  content: '►';\n",
       "  font-size: 11px;\n",
       "  width: 15px;\n",
       "  text-align: center;\n",
       "}\n",
       "\n",
       ".xr-section-summary-in:disabled + label:before {\n",
       "  color: var(--xr-disabled-color);\n",
       "}\n",
       "\n",
       ".xr-section-summary-in:checked + label:before {\n",
       "  content: '▼';\n",
       "}\n",
       "\n",
       ".xr-section-summary-in:checked + label > span {\n",
       "  display: none;\n",
       "}\n",
       "\n",
       ".xr-section-summary,\n",
       ".xr-section-inline-details {\n",
       "  padding-top: 4px;\n",
       "  padding-bottom: 4px;\n",
       "}\n",
       "\n",
       ".xr-section-inline-details {\n",
       "  grid-column: 2 / -1;\n",
       "}\n",
       "\n",
       ".xr-section-details {\n",
       "  display: none;\n",
       "  grid-column: 1 / -1;\n",
       "  margin-bottom: 5px;\n",
       "}\n",
       "\n",
       ".xr-section-summary-in:checked ~ .xr-section-details {\n",
       "  display: contents;\n",
       "}\n",
       "\n",
       ".xr-array-wrap {\n",
       "  grid-column: 1 / -1;\n",
       "  display: grid;\n",
       "  grid-template-columns: 20px auto;\n",
       "}\n",
       "\n",
       ".xr-array-wrap > label {\n",
       "  grid-column: 1;\n",
       "  vertical-align: top;\n",
       "}\n",
       "\n",
       ".xr-preview {\n",
       "  color: var(--xr-font-color3);\n",
       "}\n",
       "\n",
       ".xr-array-preview,\n",
       ".xr-array-data {\n",
       "  padding: 0 5px !important;\n",
       "  grid-column: 2;\n",
       "}\n",
       "\n",
       ".xr-array-data,\n",
       ".xr-array-in:checked ~ .xr-array-preview {\n",
       "  display: none;\n",
       "}\n",
       "\n",
       ".xr-array-in:checked ~ .xr-array-data,\n",
       ".xr-array-preview {\n",
       "  display: inline-block;\n",
       "}\n",
       "\n",
       ".xr-dim-list {\n",
       "  display: inline-block !important;\n",
       "  list-style: none;\n",
       "  padding: 0 !important;\n",
       "  margin: 0;\n",
       "}\n",
       "\n",
       ".xr-dim-list li {\n",
       "  display: inline-block;\n",
       "  padding: 0;\n",
       "  margin: 0;\n",
       "}\n",
       "\n",
       ".xr-dim-list:before {\n",
       "  content: '(';\n",
       "}\n",
       "\n",
       ".xr-dim-list:after {\n",
       "  content: ')';\n",
       "}\n",
       "\n",
       ".xr-dim-list li:not(:last-child):after {\n",
       "  content: ',';\n",
       "  padding-right: 5px;\n",
       "}\n",
       "\n",
       ".xr-has-index {\n",
       "  font-weight: bold;\n",
       "}\n",
       "\n",
       ".xr-var-list,\n",
       ".xr-var-item {\n",
       "  display: contents;\n",
       "}\n",
       "\n",
       ".xr-var-item > div,\n",
       ".xr-var-item label,\n",
       ".xr-var-item > .xr-var-name span {\n",
       "  background-color: var(--xr-background-color-row-even);\n",
       "  margin-bottom: 0;\n",
       "}\n",
       "\n",
       ".xr-var-item > .xr-var-name:hover span {\n",
       "  padding-right: 5px;\n",
       "}\n",
       "\n",
       ".xr-var-list > li:nth-child(odd) > div,\n",
       ".xr-var-list > li:nth-child(odd) > label,\n",
       ".xr-var-list > li:nth-child(odd) > .xr-var-name span {\n",
       "  background-color: var(--xr-background-color-row-odd);\n",
       "}\n",
       "\n",
       ".xr-var-name {\n",
       "  grid-column: 1;\n",
       "}\n",
       "\n",
       ".xr-var-dims {\n",
       "  grid-column: 2;\n",
       "}\n",
       "\n",
       ".xr-var-dtype {\n",
       "  grid-column: 3;\n",
       "  text-align: right;\n",
       "  color: var(--xr-font-color2);\n",
       "}\n",
       "\n",
       ".xr-var-preview {\n",
       "  grid-column: 4;\n",
       "}\n",
       "\n",
       ".xr-index-preview {\n",
       "  grid-column: 2 / 5;\n",
       "  color: var(--xr-font-color2);\n",
       "}\n",
       "\n",
       ".xr-var-name,\n",
       ".xr-var-dims,\n",
       ".xr-var-dtype,\n",
       ".xr-preview,\n",
       ".xr-attrs dt {\n",
       "  white-space: nowrap;\n",
       "  overflow: hidden;\n",
       "  text-overflow: ellipsis;\n",
       "  padding-right: 10px;\n",
       "}\n",
       "\n",
       ".xr-var-name:hover,\n",
       ".xr-var-dims:hover,\n",
       ".xr-var-dtype:hover,\n",
       ".xr-attrs dt:hover {\n",
       "  overflow: visible;\n",
       "  width: auto;\n",
       "  z-index: 1;\n",
       "}\n",
       "\n",
       ".xr-var-attrs,\n",
       ".xr-var-data,\n",
       ".xr-index-data {\n",
       "  display: none;\n",
       "  background-color: var(--xr-background-color) !important;\n",
       "  padding-bottom: 5px !important;\n",
       "}\n",
       "\n",
       ".xr-var-attrs-in:checked ~ .xr-var-attrs,\n",
       ".xr-var-data-in:checked ~ .xr-var-data,\n",
       ".xr-index-data-in:checked ~ .xr-index-data {\n",
       "  display: block;\n",
       "}\n",
       "\n",
       ".xr-var-data > table {\n",
       "  float: right;\n",
       "}\n",
       "\n",
       ".xr-var-name span,\n",
       ".xr-var-data,\n",
       ".xr-index-name div,\n",
       ".xr-index-data,\n",
       ".xr-attrs {\n",
       "  padding-left: 25px !important;\n",
       "}\n",
       "\n",
       ".xr-attrs,\n",
       ".xr-var-attrs,\n",
       ".xr-var-data,\n",
       ".xr-index-data {\n",
       "  grid-column: 1 / -1;\n",
       "}\n",
       "\n",
       "dl.xr-attrs {\n",
       "  padding: 0;\n",
       "  margin: 0;\n",
       "  display: grid;\n",
       "  grid-template-columns: 125px auto;\n",
       "}\n",
       "\n",
       ".xr-attrs dt,\n",
       ".xr-attrs dd {\n",
       "  padding: 0;\n",
       "  margin: 0;\n",
       "  float: left;\n",
       "  padding-right: 10px;\n",
       "  width: auto;\n",
       "}\n",
       "\n",
       ".xr-attrs dt {\n",
       "  font-weight: normal;\n",
       "  grid-column: 1;\n",
       "}\n",
       "\n",
       ".xr-attrs dt:hover span {\n",
       "  display: inline-block;\n",
       "  background: var(--xr-background-color);\n",
       "  padding-right: 10px;\n",
       "}\n",
       "\n",
       ".xr-attrs dd {\n",
       "  grid-column: 2;\n",
       "  white-space: pre-wrap;\n",
       "  word-break: break-all;\n",
       "}\n",
       "\n",
       ".xr-icon-database,\n",
       ".xr-icon-file-text2,\n",
       ".xr-no-icon {\n",
       "  display: inline-block;\n",
       "  vertical-align: middle;\n",
       "  width: 1em;\n",
       "  height: 1.5em !important;\n",
       "  stroke-width: 0;\n",
       "  stroke: currentColor;\n",
       "  fill: currentColor;\n",
       "}\n",
       "</style><pre class='xr-text-repr-fallback'>&lt;xarray.Dataset&gt;\n",
       "Dimensions:    (index: 0, time: 359424)\n",
       "Coordinates:\n",
       "  * index      (index) int64 \n",
       "  * time       (time) datetime64[ns] 1980-01-01T01:00:00 ... 2021-01-01\n",
       "Data variables:\n",
       "    longitude  (index) float64 \n",
       "    latitude   (index) float64 \n",
       "    node_idx   (index) int64 \n",
       "    kns        (index) int64 \n",
       "    node_lons  (index) float64 \n",
       "    node_lats  (index) float64 \n",
       "    depth      (index) float32 \n",
       "    elev       (time, index) float32 </pre><div class='xr-wrap' style='display:none'><div class='xr-header'><div class='xr-obj-type'>xarray.Dataset</div></div><ul class='xr-sections'><li class='xr-section-item'><input id='section-947f5317-bddc-4b3f-b08c-feea2834fad2' class='xr-section-summary-in' type='checkbox' disabled ><label for='section-947f5317-bddc-4b3f-b08c-feea2834fad2' class='xr-section-summary'  title='Expand/collapse section'>Dimensions:</label><div class='xr-section-inline-details'><ul class='xr-dim-list'><li><span class='xr-has-index'>index</span>: 0</li><li><span class='xr-has-index'>time</span>: 359424</li></ul></div><div class='xr-section-details'></div></li><li class='xr-section-item'><input id='section-0fa536bf-860b-45c7-b3e1-620c680f7f2d' class='xr-section-summary-in' type='checkbox'  checked><label for='section-0fa536bf-860b-45c7-b3e1-620c680f7f2d' class='xr-section-summary' >Coordinates: <span>(2)</span></label><div class='xr-section-inline-details'></div><div class='xr-section-details'><ul class='xr-var-list'><li class='xr-var-item'><div class='xr-var-name'><span class='xr-has-index'>index</span></div><div class='xr-var-dims'>(index)</div><div class='xr-var-dtype'>int64</div><div class='xr-var-preview xr-preview'></div><input id='attrs-a138f793-61f9-4839-9e95-b6c187ac19ed' class='xr-var-attrs-in' type='checkbox' disabled><label for='attrs-a138f793-61f9-4839-9e95-b6c187ac19ed' title='Show/Hide attributes'><svg class='icon xr-icon-file-text2'><use xlink:href='#icon-file-text2'></use></svg></label><input id='data-585eed80-a753-4fd6-8d04-e241600c6a8b' class='xr-var-data-in' type='checkbox'><label for='data-585eed80-a753-4fd6-8d04-e241600c6a8b' title='Show/Hide data repr'><svg class='icon xr-icon-database'><use xlink:href='#icon-database'></use></svg></label><div class='xr-var-attrs'><dl class='xr-attrs'></dl></div><div class='xr-var-data'><pre>array([], dtype=int64)</pre></div></li><li class='xr-var-item'><div class='xr-var-name'><span class='xr-has-index'>time</span></div><div class='xr-var-dims'>(time)</div><div class='xr-var-dtype'>datetime64[ns]</div><div class='xr-var-preview xr-preview'>1980-01-01T01:00:00 ... 2021-01-01</div><input id='attrs-6a0081aa-c9ad-428f-a327-bdb3c60e80c3' class='xr-var-attrs-in' type='checkbox' ><label for='attrs-6a0081aa-c9ad-428f-a327-bdb3c60e80c3' title='Show/Hide attributes'><svg class='icon xr-icon-file-text2'><use xlink:href='#icon-file-text2'></use></svg></label><input id='data-1134a5b6-6657-436c-b2e3-fd7d8269e894' class='xr-var-data-in' type='checkbox'><label for='data-1134a5b6-6657-436c-b2e3-fd7d8269e894' title='Show/Hide data repr'><svg class='icon xr-icon-database'><use xlink:href='#icon-database'></use></svg></label><div class='xr-var-attrs'><dl class='xr-attrs'><dt><span>long_name :</span></dt><dd>Time</dd><dt><span>base_date :</span></dt><dd> 1979 12  1       0.00       0.00</dd><dt><span>standard_name :</span></dt><dd>time</dd></dl></div><div class='xr-var-data'><pre>array([&#x27;1980-01-01T01:00:00.000000000&#x27;, &#x27;1980-01-01T02:00:00.000000000&#x27;,\n",
       "       &#x27;1980-01-01T03:00:00.000000000&#x27;, ..., &#x27;2020-12-31T22:00:00.000000000&#x27;,\n",
       "       &#x27;2020-12-31T23:00:00.000000000&#x27;, &#x27;2021-01-01T00:00:00.000000000&#x27;],\n",
       "      dtype=&#x27;datetime64[ns]&#x27;)</pre></div></li></ul></div></li><li class='xr-section-item'><input id='section-b0f15dcf-94a1-4a42-ad91-00f02120d21b' class='xr-section-summary-in' type='checkbox'  checked><label for='section-b0f15dcf-94a1-4a42-ad91-00f02120d21b' class='xr-section-summary' >Data variables: <span>(8)</span></label><div class='xr-section-inline-details'></div><div class='xr-section-details'><ul class='xr-var-list'><li class='xr-var-item'><div class='xr-var-name'><span>longitude</span></div><div class='xr-var-dims'>(index)</div><div class='xr-var-dtype'>float64</div><div class='xr-var-preview xr-preview'></div><input id='attrs-680aabaa-9570-4e26-bab6-a5dc74f546ff' class='xr-var-attrs-in' type='checkbox' disabled><label for='attrs-680aabaa-9570-4e26-bab6-a5dc74f546ff' title='Show/Hide attributes'><svg class='icon xr-icon-file-text2'><use xlink:href='#icon-file-text2'></use></svg></label><input id='data-76281984-ba25-42a5-b6af-babe911067aa' class='xr-var-data-in' type='checkbox'><label for='data-76281984-ba25-42a5-b6af-babe911067aa' title='Show/Hide data repr'><svg class='icon xr-icon-database'><use xlink:href='#icon-database'></use></svg></label><div class='xr-var-attrs'><dl class='xr-attrs'></dl></div><div class='xr-var-data'><pre>array([], dtype=float64)</pre></div></li><li class='xr-var-item'><div class='xr-var-name'><span>latitude</span></div><div class='xr-var-dims'>(index)</div><div class='xr-var-dtype'>float64</div><div class='xr-var-preview xr-preview'></div><input id='attrs-70244242-3e90-4f55-8dbf-674321c2b494' class='xr-var-attrs-in' type='checkbox' disabled><label for='attrs-70244242-3e90-4f55-8dbf-674321c2b494' title='Show/Hide attributes'><svg class='icon xr-icon-file-text2'><use xlink:href='#icon-file-text2'></use></svg></label><input id='data-3231f6e5-2c82-4e0e-bf03-f0126074a89b' class='xr-var-data-in' type='checkbox'><label for='data-3231f6e5-2c82-4e0e-bf03-f0126074a89b' title='Show/Hide data repr'><svg class='icon xr-icon-database'><use xlink:href='#icon-database'></use></svg></label><div class='xr-var-attrs'><dl class='xr-attrs'></dl></div><div class='xr-var-data'><pre>array([], dtype=float64)</pre></div></li><li class='xr-var-item'><div class='xr-var-name'><span>node_idx</span></div><div class='xr-var-dims'>(index)</div><div class='xr-var-dtype'>int64</div><div class='xr-var-preview xr-preview'></div><input id='attrs-f3267ba0-999d-4ca4-b4a4-006775c106fc' class='xr-var-attrs-in' type='checkbox' disabled><label for='attrs-f3267ba0-999d-4ca4-b4a4-006775c106fc' title='Show/Hide attributes'><svg class='icon xr-icon-file-text2'><use xlink:href='#icon-file-text2'></use></svg></label><input id='data-b4279b44-9955-4e0a-8981-48691fc749cd' class='xr-var-data-in' type='checkbox'><label for='data-b4279b44-9955-4e0a-8981-48691fc749cd' title='Show/Hide data repr'><svg class='icon xr-icon-database'><use xlink:href='#icon-database'></use></svg></label><div class='xr-var-attrs'><dl class='xr-attrs'></dl></div><div class='xr-var-data'><pre>array([], dtype=int64)</pre></div></li><li class='xr-var-item'><div class='xr-var-name'><span>kns</span></div><div class='xr-var-dims'>(index)</div><div class='xr-var-dtype'>int64</div><div class='xr-var-preview xr-preview'></div><input id='attrs-4e3cef96-81f1-4cb8-bf3d-7d94d7e0473b' class='xr-var-attrs-in' type='checkbox' disabled><label for='attrs-4e3cef96-81f1-4cb8-bf3d-7d94d7e0473b' title='Show/Hide attributes'><svg class='icon xr-icon-file-text2'><use xlink:href='#icon-file-text2'></use></svg></label><input id='data-5daaaca6-6537-44f4-bc3b-d1deb31f8957' class='xr-var-data-in' type='checkbox'><label for='data-5daaaca6-6537-44f4-bc3b-d1deb31f8957' title='Show/Hide data repr'><svg class='icon xr-icon-database'><use xlink:href='#icon-database'></use></svg></label><div class='xr-var-attrs'><dl class='xr-attrs'></dl></div><div class='xr-var-data'><pre>array([], dtype=int64)</pre></div></li><li class='xr-var-item'><div class='xr-var-name'><span>node_lons</span></div><div class='xr-var-dims'>(index)</div><div class='xr-var-dtype'>float64</div><div class='xr-var-preview xr-preview'></div><input id='attrs-641c42e3-5318-4d36-aa08-92d39e9e629c' class='xr-var-attrs-in' type='checkbox' disabled><label for='attrs-641c42e3-5318-4d36-aa08-92d39e9e629c' title='Show/Hide attributes'><svg class='icon xr-icon-file-text2'><use xlink:href='#icon-file-text2'></use></svg></label><input id='data-0c86798c-c2cf-4bc3-8ba2-2a86792d4498' class='xr-var-data-in' type='checkbox'><label for='data-0c86798c-c2cf-4bc3-8ba2-2a86792d4498' title='Show/Hide data repr'><svg class='icon xr-icon-database'><use xlink:href='#icon-database'></use></svg></label><div class='xr-var-attrs'><dl class='xr-attrs'></dl></div><div class='xr-var-data'><pre>array([], dtype=float64)</pre></div></li><li class='xr-var-item'><div class='xr-var-name'><span>node_lats</span></div><div class='xr-var-dims'>(index)</div><div class='xr-var-dtype'>float64</div><div class='xr-var-preview xr-preview'></div><input id='attrs-6ba1f75e-365f-4686-bb10-405d05cc4e9c' class='xr-var-attrs-in' type='checkbox' disabled><label for='attrs-6ba1f75e-365f-4686-bb10-405d05cc4e9c' title='Show/Hide attributes'><svg class='icon xr-icon-file-text2'><use xlink:href='#icon-file-text2'></use></svg></label><input id='data-84e5466c-1e2f-4702-8d2c-c59c354935bd' class='xr-var-data-in' type='checkbox'><label for='data-84e5466c-1e2f-4702-8d2c-c59c354935bd' title='Show/Hide data repr'><svg class='icon xr-icon-database'><use xlink:href='#icon-database'></use></svg></label><div class='xr-var-attrs'><dl class='xr-attrs'></dl></div><div class='xr-var-data'><pre>array([], dtype=float64)</pre></div></li><li class='xr-var-item'><div class='xr-var-name'><span>depth</span></div><div class='xr-var-dims'>(index)</div><div class='xr-var-dtype'>float32</div><div class='xr-var-preview xr-preview'></div><input id='attrs-faf49658-3755-4acd-a380-ef0ff63dcf3f' class='xr-var-attrs-in' type='checkbox' disabled><label for='attrs-faf49658-3755-4acd-a380-ef0ff63dcf3f' title='Show/Hide attributes'><svg class='icon xr-icon-file-text2'><use xlink:href='#icon-file-text2'></use></svg></label><input id='data-450cd900-0673-4c18-aa27-a682d68a4234' class='xr-var-data-in' type='checkbox'><label for='data-450cd900-0673-4c18-aa27-a682d68a4234' title='Show/Hide data repr'><svg class='icon xr-icon-database'><use xlink:href='#icon-database'></use></svg></label><div class='xr-var-attrs'><dl class='xr-attrs'></dl></div><div class='xr-var-data'><pre>array([], dtype=float32)</pre></div></li><li class='xr-var-item'><div class='xr-var-name'><span>elev</span></div><div class='xr-var-dims'>(time, index)</div><div class='xr-var-dtype'>float32</div><div class='xr-var-preview xr-preview'></div><input id='attrs-d2d91c90-1eb5-42fc-b056-f62a5cd001d9' class='xr-var-attrs-in' type='checkbox' ><label for='attrs-d2d91c90-1eb5-42fc-b056-f62a5cd001d9' title='Show/Hide attributes'><svg class='icon xr-icon-file-text2'><use xlink:href='#icon-file-text2'></use></svg></label><input id='data-7b21b409-dffe-4c9c-ba4e-019fcc057780' class='xr-var-data-in' type='checkbox'><label for='data-7b21b409-dffe-4c9c-ba4e-019fcc057780' title='Show/Hide data repr'><svg class='icon xr-icon-database'><use xlink:href='#icon-database'></use></svg></label><div class='xr-var-attrs'><dl class='xr-attrs'><dt><span>mesh :</span></dt><dd>SCHISM_hgrid</dd><dt><span>data_horizontal_center :</span></dt><dd>node</dd><dt><span>data_vertical_center :</span></dt><dd>full</dd><dt><span>i23d :</span></dt><dd>1</dd><dt><span>ivs :</span></dt><dd>1</dd></dl></div><div class='xr-var-data'><pre>array([], shape=(359424, 0), dtype=float32)</pre></div></li></ul></div></li><li class='xr-section-item'><input id='section-704761c5-23c8-4257-981a-d91a04efc99a' class='xr-section-summary-in' type='checkbox'  ><label for='section-704761c5-23c8-4257-981a-d91a04efc99a' class='xr-section-summary' >Indexes: <span>(2)</span></label><div class='xr-section-inline-details'></div><div class='xr-section-details'><ul class='xr-var-list'><li class='xr-var-item'><div class='xr-index-name'><div>index</div></div><div class='xr-index-preview'>PandasIndex</div><div></div><input id='index-95bcfe45-afe8-4368-ac06-21603ace9c2c' class='xr-index-data-in' type='checkbox'/><label for='index-95bcfe45-afe8-4368-ac06-21603ace9c2c' title='Show/Hide index repr'><svg class='icon xr-icon-database'><use xlink:href='#icon-database'></use></svg></label><div class='xr-index-data'><pre>PandasIndex(Int64Index([], dtype=&#x27;int64&#x27;, name=&#x27;index&#x27;))</pre></div></li><li class='xr-var-item'><div class='xr-index-name'><div>time</div></div><div class='xr-index-preview'>PandasIndex</div><div></div><input id='index-c9889aec-6819-489a-a247-206ed41a0d73' class='xr-index-data-in' type='checkbox'/><label for='index-c9889aec-6819-489a-a247-206ed41a0d73' title='Show/Hide index repr'><svg class='icon xr-icon-database'><use xlink:href='#icon-database'></use></svg></label><div class='xr-index-data'><pre>PandasIndex(DatetimeIndex([&#x27;1980-01-01 01:00:00&#x27;, &#x27;1980-01-01 02:00:00&#x27;,\n",
       "               &#x27;1980-01-01 03:00:00&#x27;, &#x27;1980-01-01 04:00:00&#x27;,\n",
       "               &#x27;1980-01-01 05:00:00&#x27;, &#x27;1980-01-01 06:00:00&#x27;,\n",
       "               &#x27;1980-01-01 07:00:00&#x27;, &#x27;1980-01-01 08:00:00&#x27;,\n",
       "               &#x27;1980-01-01 09:00:00&#x27;, &#x27;1980-01-01 10:00:00&#x27;,\n",
       "               ...\n",
       "               &#x27;2020-12-31 15:00:00&#x27;, &#x27;2020-12-31 16:00:00&#x27;,\n",
       "               &#x27;2020-12-31 17:00:00&#x27;, &#x27;2020-12-31 18:00:00&#x27;,\n",
       "               &#x27;2020-12-31 19:00:00&#x27;, &#x27;2020-12-31 20:00:00&#x27;,\n",
       "               &#x27;2020-12-31 21:00:00&#x27;, &#x27;2020-12-31 22:00:00&#x27;,\n",
       "               &#x27;2020-12-31 23:00:00&#x27;, &#x27;2021-01-01 00:00:00&#x27;],\n",
       "              dtype=&#x27;datetime64[ns]&#x27;, name=&#x27;time&#x27;, length=359424, freq=None))</pre></div></li></ul></div></li><li class='xr-section-item'><input id='section-75d74673-a4f2-4258-8baa-6e927a193068' class='xr-section-summary-in' type='checkbox' disabled ><label for='section-75d74673-a4f2-4258-8baa-6e927a193068' class='xr-section-summary'  title='Expand/collapse section'>Attributes: <span>(0)</span></label><div class='xr-section-inline-details'></div><div class='xr-section-details'><dl class='xr-attrs'></dl></div></li></ul></div></div>"
      ],
      "text/plain": [
       "<xarray.Dataset>\n",
       "Dimensions:    (index: 0, time: 359424)\n",
       "Coordinates:\n",
       "  * index      (index) int64 \n",
       "  * time       (time) datetime64[ns] 1980-01-01T01:00:00 ... 2021-01-01\n",
       "Data variables:\n",
       "    longitude  (index) float64 \n",
       "    latitude   (index) float64 \n",
       "    node_idx   (index) int64 \n",
       "    kns        (index) int64 \n",
       "    node_lons  (index) float64 \n",
       "    node_lats  (index) float64 \n",
       "    depth      (index) float32 \n",
       "    elev       (time, index) float32 "
      ]
     },
     "execution_count": 47,
     "metadata": {},
     "output_type": "execute_result"
    }
   ],
   "source": [
    "coastpoints_ds.isel(index=np.where(coastpoints_ds.node_idx==95913)[0])\n",
    "                    "
   ]
  },
  {
   "cell_type": "code",
   "execution_count": 48,
   "id": "29dbbb87-0d62-4f94-ab88-22ddcd8b990d",
   "metadata": {},
   "outputs": [],
   "source": [
    "# coastpoints_ds.isel(index=np.where(coastpoints_ds.node_idx==95913)[0]).isel(index=0).elev.plot()"
   ]
  },
  {
   "cell_type": "code",
   "execution_count": 49,
   "id": "6221203c-9958-4985-ad49-b15344d73e26",
   "metadata": {},
   "outputs": [
    {
     "data": {
      "text/plain": [
       "[<matplotlib.lines.Line2D at 0x1554d9da2470>]"
      ]
     },
     "execution_count": 49,
     "metadata": {},
     "output_type": "execute_result"
    },
    {
     "data": {
      "image/png": "[encoded data removed]",
      "text/plain": [
       "<Figure size 640x480 with 1 Axes>"
      ]
     },
     "metadata": {},
     "output_type": "display_data"
    }
   ],
   "source": [
    "coastpoints_ds.isel(index=163).elev.plot()"
   ]
  },
  {
   "cell_type": "code",
   "execution_count": 50,
   "id": "e5716083-31c7-4e59-b20f-8cc7b51d0a4c",
   "metadata": {},
   "outputs": [
    {
     "data": {
      "text/plain": [
       "[<matplotlib.lines.Line2D at 0x1554db76e350>]"
      ]
     },
     "execution_count": 50,
     "metadata": {},
     "output_type": "execute_result"
    },
    {
     "data": {
      "image/png": "[encoded data removed]",
      "text/plain": [
       "<Figure size 640x480 with 1 Axes>"
      ]
     },
     "metadata": {},
     "output_type": "display_data"
    }
   ],
   "source": [
    "coastpoints_ds.isel(index=np.where(coastpoints_ds.node_idx==95878)[0]).isel(index=0).elev.plot()"
   ]
  },
  {
   "cell_type": "code",
   "execution_count": 51,
   "id": "95c90758-8396-40f5-858c-1963d76ed1fe",
   "metadata": {},
   "outputs": [],
   "source": [
    "# coastpoints_ds.isel(index=np.where(coastpoints_ds.node_idx==95913)[0]).isel(index=1).elev.plot()"
   ]
  },
  {
   "cell_type": "code",
   "execution_count": 52,
   "id": "3d92c573-c05f-46f0-b3a8-7029a489c478",
   "metadata": {},
   "outputs": [
    {
     "data": {
      "text/plain": [
       "[168.32461861500744, -17.743705282625317]"
      ]
     },
     "execution_count": 52,
     "metadata": {},
     "output_type": "execute_result"
    }
   ],
   "source": [
    "[coastpoints_ds.isel(index=np.where(coastpoints_ds.node_idx==73379)[0])['longitude'].values[0],\n",
    " coastpoints_ds.isel(index=np.where(coastpoints_ds.node_idx==73379)[0])['latitude'].values[0]]"
   ]
  },
  {
   "cell_type": "code",
   "execution_count": 53,
   "id": "4e84ed55-38d4-4162-a98b-ecbf5ab0a0a3",
   "metadata": {},
   "outputs": [
    {
     "data": {
      "text/plain": [
       "[<matplotlib.lines.Line2D at 0x1554fb0e5930>]"
      ]
     },
     "execution_count": 53,
     "metadata": {},
     "output_type": "execute_result"
    },
    {
     "data": {
      "image/png": "[encoded data removed]",
      "text/plain": [
       "<Figure size 640x480 with 1 Axes>"
      ]
     },
     "metadata": {},
     "output_type": "display_data"
    }
   ],
   "source": [
    "coastpoints_ds.isel(index=np.where(coastpoints_ds.node_idx==73379)[0]).elev.plot()"
   ]
  },
  {
   "cell_type": "code",
   "execution_count": null,
   "id": "e61248f7-b71f-401a-85ff-0f182bd98cf5",
   "metadata": {},
   "outputs": [],
   "source": []
  }
 ],
 "metadata": {
  "kernelspec": {
   "display_name": "Python 3 (ipykernel)",
   "language": "python",
   "name": "python3"
  },
  "language_info": {
   "codemirror_mode": {
    "name": "ipython",
    "version": 3
   },
   "file_extension": ".py",
   "mimetype": "text/x-python",
   "name": "python",
   "nbconvert_exporter": "python",
   "pygments_lexer": "ipython3",
   "version": "3.8.16"
  }
 },
 "nbformat": 4,
 "nbformat_minor": 5
}
